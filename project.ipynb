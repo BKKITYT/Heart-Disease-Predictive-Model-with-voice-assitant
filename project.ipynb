{
 "cells": [
  {
   "cell_type": "markdown",
   "metadata": {},
   "source": [
    "# Heart Disease Prediction Model"
   ]
  },
  {
   "cell_type": "code",
   "execution_count": 208,
   "metadata": {},
   "outputs": [
    {
     "data": {
      "text/html": [
       "<div>\n",
       "<style scoped>\n",
       "    .dataframe tbody tr th:only-of-type {\n",
       "        vertical-align: middle;\n",
       "    }\n",
       "\n",
       "    .dataframe tbody tr th {\n",
       "        vertical-align: top;\n",
       "    }\n",
       "\n",
       "    .dataframe thead th {\n",
       "        text-align: right;\n",
       "    }\n",
       "</style>\n",
       "<table border=\"1\" class=\"dataframe\">\n",
       "  <thead>\n",
       "    <tr style=\"text-align: right;\">\n",
       "      <th></th>\n",
       "      <th>age</th>\n",
       "      <th>sex</th>\n",
       "      <th>cp</th>\n",
       "      <th>trestbps</th>\n",
       "      <th>chol</th>\n",
       "      <th>fbs</th>\n",
       "      <th>restecg</th>\n",
       "      <th>thalach</th>\n",
       "      <th>exang</th>\n",
       "      <th>oldpeak</th>\n",
       "      <th>slope</th>\n",
       "      <th>ca</th>\n",
       "      <th>thal</th>\n",
       "      <th>target</th>\n",
       "    </tr>\n",
       "  </thead>\n",
       "  <tbody>\n",
       "    <tr>\n",
       "      <th>0</th>\n",
       "      <td>52</td>\n",
       "      <td>1</td>\n",
       "      <td>0</td>\n",
       "      <td>125</td>\n",
       "      <td>212</td>\n",
       "      <td>0</td>\n",
       "      <td>1</td>\n",
       "      <td>168</td>\n",
       "      <td>0</td>\n",
       "      <td>1.0</td>\n",
       "      <td>2</td>\n",
       "      <td>2</td>\n",
       "      <td>3</td>\n",
       "      <td>0</td>\n",
       "    </tr>\n",
       "    <tr>\n",
       "      <th>1</th>\n",
       "      <td>53</td>\n",
       "      <td>1</td>\n",
       "      <td>0</td>\n",
       "      <td>140</td>\n",
       "      <td>203</td>\n",
       "      <td>1</td>\n",
       "      <td>0</td>\n",
       "      <td>155</td>\n",
       "      <td>1</td>\n",
       "      <td>3.1</td>\n",
       "      <td>0</td>\n",
       "      <td>0</td>\n",
       "      <td>3</td>\n",
       "      <td>0</td>\n",
       "    </tr>\n",
       "    <tr>\n",
       "      <th>2</th>\n",
       "      <td>70</td>\n",
       "      <td>1</td>\n",
       "      <td>0</td>\n",
       "      <td>145</td>\n",
       "      <td>174</td>\n",
       "      <td>0</td>\n",
       "      <td>1</td>\n",
       "      <td>125</td>\n",
       "      <td>1</td>\n",
       "      <td>2.6</td>\n",
       "      <td>0</td>\n",
       "      <td>0</td>\n",
       "      <td>3</td>\n",
       "      <td>0</td>\n",
       "    </tr>\n",
       "    <tr>\n",
       "      <th>3</th>\n",
       "      <td>61</td>\n",
       "      <td>1</td>\n",
       "      <td>0</td>\n",
       "      <td>148</td>\n",
       "      <td>203</td>\n",
       "      <td>0</td>\n",
       "      <td>1</td>\n",
       "      <td>161</td>\n",
       "      <td>0</td>\n",
       "      <td>0.0</td>\n",
       "      <td>2</td>\n",
       "      <td>1</td>\n",
       "      <td>3</td>\n",
       "      <td>0</td>\n",
       "    </tr>\n",
       "    <tr>\n",
       "      <th>4</th>\n",
       "      <td>62</td>\n",
       "      <td>0</td>\n",
       "      <td>0</td>\n",
       "      <td>138</td>\n",
       "      <td>294</td>\n",
       "      <td>1</td>\n",
       "      <td>1</td>\n",
       "      <td>106</td>\n",
       "      <td>0</td>\n",
       "      <td>1.9</td>\n",
       "      <td>1</td>\n",
       "      <td>3</td>\n",
       "      <td>2</td>\n",
       "      <td>0</td>\n",
       "    </tr>\n",
       "    <tr>\n",
       "      <th>5</th>\n",
       "      <td>58</td>\n",
       "      <td>0</td>\n",
       "      <td>0</td>\n",
       "      <td>100</td>\n",
       "      <td>248</td>\n",
       "      <td>0</td>\n",
       "      <td>0</td>\n",
       "      <td>122</td>\n",
       "      <td>0</td>\n",
       "      <td>1.0</td>\n",
       "      <td>1</td>\n",
       "      <td>0</td>\n",
       "      <td>2</td>\n",
       "      <td>1</td>\n",
       "    </tr>\n",
       "    <tr>\n",
       "      <th>6</th>\n",
       "      <td>58</td>\n",
       "      <td>1</td>\n",
       "      <td>0</td>\n",
       "      <td>114</td>\n",
       "      <td>318</td>\n",
       "      <td>0</td>\n",
       "      <td>2</td>\n",
       "      <td>140</td>\n",
       "      <td>0</td>\n",
       "      <td>4.4</td>\n",
       "      <td>0</td>\n",
       "      <td>3</td>\n",
       "      <td>1</td>\n",
       "      <td>0</td>\n",
       "    </tr>\n",
       "    <tr>\n",
       "      <th>7</th>\n",
       "      <td>55</td>\n",
       "      <td>1</td>\n",
       "      <td>0</td>\n",
       "      <td>160</td>\n",
       "      <td>289</td>\n",
       "      <td>0</td>\n",
       "      <td>0</td>\n",
       "      <td>145</td>\n",
       "      <td>1</td>\n",
       "      <td>0.8</td>\n",
       "      <td>1</td>\n",
       "      <td>1</td>\n",
       "      <td>3</td>\n",
       "      <td>0</td>\n",
       "    </tr>\n",
       "    <tr>\n",
       "      <th>8</th>\n",
       "      <td>46</td>\n",
       "      <td>1</td>\n",
       "      <td>0</td>\n",
       "      <td>120</td>\n",
       "      <td>249</td>\n",
       "      <td>0</td>\n",
       "      <td>0</td>\n",
       "      <td>144</td>\n",
       "      <td>0</td>\n",
       "      <td>0.8</td>\n",
       "      <td>2</td>\n",
       "      <td>0</td>\n",
       "      <td>3</td>\n",
       "      <td>0</td>\n",
       "    </tr>\n",
       "    <tr>\n",
       "      <th>9</th>\n",
       "      <td>54</td>\n",
       "      <td>1</td>\n",
       "      <td>0</td>\n",
       "      <td>122</td>\n",
       "      <td>286</td>\n",
       "      <td>0</td>\n",
       "      <td>0</td>\n",
       "      <td>116</td>\n",
       "      <td>1</td>\n",
       "      <td>3.2</td>\n",
       "      <td>1</td>\n",
       "      <td>2</td>\n",
       "      <td>2</td>\n",
       "      <td>0</td>\n",
       "    </tr>\n",
       "    <tr>\n",
       "      <th>10</th>\n",
       "      <td>71</td>\n",
       "      <td>0</td>\n",
       "      <td>0</td>\n",
       "      <td>112</td>\n",
       "      <td>149</td>\n",
       "      <td>0</td>\n",
       "      <td>1</td>\n",
       "      <td>125</td>\n",
       "      <td>0</td>\n",
       "      <td>1.6</td>\n",
       "      <td>1</td>\n",
       "      <td>0</td>\n",
       "      <td>2</td>\n",
       "      <td>1</td>\n",
       "    </tr>\n",
       "    <tr>\n",
       "      <th>11</th>\n",
       "      <td>43</td>\n",
       "      <td>0</td>\n",
       "      <td>0</td>\n",
       "      <td>132</td>\n",
       "      <td>341</td>\n",
       "      <td>1</td>\n",
       "      <td>0</td>\n",
       "      <td>136</td>\n",
       "      <td>1</td>\n",
       "      <td>3.0</td>\n",
       "      <td>1</td>\n",
       "      <td>0</td>\n",
       "      <td>3</td>\n",
       "      <td>0</td>\n",
       "    </tr>\n",
       "    <tr>\n",
       "      <th>12</th>\n",
       "      <td>34</td>\n",
       "      <td>0</td>\n",
       "      <td>1</td>\n",
       "      <td>118</td>\n",
       "      <td>210</td>\n",
       "      <td>0</td>\n",
       "      <td>1</td>\n",
       "      <td>192</td>\n",
       "      <td>0</td>\n",
       "      <td>0.7</td>\n",
       "      <td>2</td>\n",
       "      <td>0</td>\n",
       "      <td>2</td>\n",
       "      <td>1</td>\n",
       "    </tr>\n",
       "    <tr>\n",
       "      <th>13</th>\n",
       "      <td>51</td>\n",
       "      <td>1</td>\n",
       "      <td>0</td>\n",
       "      <td>140</td>\n",
       "      <td>298</td>\n",
       "      <td>0</td>\n",
       "      <td>1</td>\n",
       "      <td>122</td>\n",
       "      <td>1</td>\n",
       "      <td>4.2</td>\n",
       "      <td>1</td>\n",
       "      <td>3</td>\n",
       "      <td>3</td>\n",
       "      <td>0</td>\n",
       "    </tr>\n",
       "    <tr>\n",
       "      <th>14</th>\n",
       "      <td>52</td>\n",
       "      <td>1</td>\n",
       "      <td>0</td>\n",
       "      <td>128</td>\n",
       "      <td>204</td>\n",
       "      <td>1</td>\n",
       "      <td>1</td>\n",
       "      <td>156</td>\n",
       "      <td>1</td>\n",
       "      <td>1.0</td>\n",
       "      <td>1</td>\n",
       "      <td>0</td>\n",
       "      <td>0</td>\n",
       "      <td>0</td>\n",
       "    </tr>\n",
       "    <tr>\n",
       "      <th>15</th>\n",
       "      <td>34</td>\n",
       "      <td>0</td>\n",
       "      <td>1</td>\n",
       "      <td>118</td>\n",
       "      <td>210</td>\n",
       "      <td>0</td>\n",
       "      <td>1</td>\n",
       "      <td>192</td>\n",
       "      <td>0</td>\n",
       "      <td>0.7</td>\n",
       "      <td>2</td>\n",
       "      <td>0</td>\n",
       "      <td>2</td>\n",
       "      <td>1</td>\n",
       "    </tr>\n",
       "    <tr>\n",
       "      <th>16</th>\n",
       "      <td>51</td>\n",
       "      <td>0</td>\n",
       "      <td>2</td>\n",
       "      <td>140</td>\n",
       "      <td>308</td>\n",
       "      <td>0</td>\n",
       "      <td>0</td>\n",
       "      <td>142</td>\n",
       "      <td>0</td>\n",
       "      <td>1.5</td>\n",
       "      <td>2</td>\n",
       "      <td>1</td>\n",
       "      <td>2</td>\n",
       "      <td>1</td>\n",
       "    </tr>\n",
       "    <tr>\n",
       "      <th>17</th>\n",
       "      <td>54</td>\n",
       "      <td>1</td>\n",
       "      <td>0</td>\n",
       "      <td>124</td>\n",
       "      <td>266</td>\n",
       "      <td>0</td>\n",
       "      <td>0</td>\n",
       "      <td>109</td>\n",
       "      <td>1</td>\n",
       "      <td>2.2</td>\n",
       "      <td>1</td>\n",
       "      <td>1</td>\n",
       "      <td>3</td>\n",
       "      <td>0</td>\n",
       "    </tr>\n",
       "    <tr>\n",
       "      <th>18</th>\n",
       "      <td>50</td>\n",
       "      <td>0</td>\n",
       "      <td>1</td>\n",
       "      <td>120</td>\n",
       "      <td>244</td>\n",
       "      <td>0</td>\n",
       "      <td>1</td>\n",
       "      <td>162</td>\n",
       "      <td>0</td>\n",
       "      <td>1.1</td>\n",
       "      <td>2</td>\n",
       "      <td>0</td>\n",
       "      <td>2</td>\n",
       "      <td>1</td>\n",
       "    </tr>\n",
       "    <tr>\n",
       "      <th>19</th>\n",
       "      <td>58</td>\n",
       "      <td>1</td>\n",
       "      <td>2</td>\n",
       "      <td>140</td>\n",
       "      <td>211</td>\n",
       "      <td>1</td>\n",
       "      <td>0</td>\n",
       "      <td>165</td>\n",
       "      <td>0</td>\n",
       "      <td>0.0</td>\n",
       "      <td>2</td>\n",
       "      <td>0</td>\n",
       "      <td>2</td>\n",
       "      <td>1</td>\n",
       "    </tr>\n",
       "    <tr>\n",
       "      <th>20</th>\n",
       "      <td>60</td>\n",
       "      <td>1</td>\n",
       "      <td>2</td>\n",
       "      <td>140</td>\n",
       "      <td>185</td>\n",
       "      <td>0</td>\n",
       "      <td>0</td>\n",
       "      <td>155</td>\n",
       "      <td>0</td>\n",
       "      <td>3.0</td>\n",
       "      <td>1</td>\n",
       "      <td>0</td>\n",
       "      <td>2</td>\n",
       "      <td>0</td>\n",
       "    </tr>\n",
       "    <tr>\n",
       "      <th>21</th>\n",
       "      <td>67</td>\n",
       "      <td>0</td>\n",
       "      <td>0</td>\n",
       "      <td>106</td>\n",
       "      <td>223</td>\n",
       "      <td>0</td>\n",
       "      <td>1</td>\n",
       "      <td>142</td>\n",
       "      <td>0</td>\n",
       "      <td>0.3</td>\n",
       "      <td>2</td>\n",
       "      <td>2</td>\n",
       "      <td>2</td>\n",
       "      <td>1</td>\n",
       "    </tr>\n",
       "    <tr>\n",
       "      <th>22</th>\n",
       "      <td>45</td>\n",
       "      <td>1</td>\n",
       "      <td>0</td>\n",
       "      <td>104</td>\n",
       "      <td>208</td>\n",
       "      <td>0</td>\n",
       "      <td>0</td>\n",
       "      <td>148</td>\n",
       "      <td>1</td>\n",
       "      <td>3.0</td>\n",
       "      <td>1</td>\n",
       "      <td>0</td>\n",
       "      <td>2</td>\n",
       "      <td>1</td>\n",
       "    </tr>\n",
       "    <tr>\n",
       "      <th>23</th>\n",
       "      <td>63</td>\n",
       "      <td>0</td>\n",
       "      <td>2</td>\n",
       "      <td>135</td>\n",
       "      <td>252</td>\n",
       "      <td>0</td>\n",
       "      <td>0</td>\n",
       "      <td>172</td>\n",
       "      <td>0</td>\n",
       "      <td>0.0</td>\n",
       "      <td>2</td>\n",
       "      <td>0</td>\n",
       "      <td>2</td>\n",
       "      <td>1</td>\n",
       "    </tr>\n",
       "    <tr>\n",
       "      <th>24</th>\n",
       "      <td>42</td>\n",
       "      <td>0</td>\n",
       "      <td>2</td>\n",
       "      <td>120</td>\n",
       "      <td>209</td>\n",
       "      <td>0</td>\n",
       "      <td>1</td>\n",
       "      <td>173</td>\n",
       "      <td>0</td>\n",
       "      <td>0.0</td>\n",
       "      <td>1</td>\n",
       "      <td>0</td>\n",
       "      <td>2</td>\n",
       "      <td>1</td>\n",
       "    </tr>\n",
       "    <tr>\n",
       "      <th>25</th>\n",
       "      <td>61</td>\n",
       "      <td>0</td>\n",
       "      <td>0</td>\n",
       "      <td>145</td>\n",
       "      <td>307</td>\n",
       "      <td>0</td>\n",
       "      <td>0</td>\n",
       "      <td>146</td>\n",
       "      <td>1</td>\n",
       "      <td>1.0</td>\n",
       "      <td>1</td>\n",
       "      <td>0</td>\n",
       "      <td>3</td>\n",
       "      <td>0</td>\n",
       "    </tr>\n",
       "    <tr>\n",
       "      <th>26</th>\n",
       "      <td>44</td>\n",
       "      <td>1</td>\n",
       "      <td>2</td>\n",
       "      <td>130</td>\n",
       "      <td>233</td>\n",
       "      <td>0</td>\n",
       "      <td>1</td>\n",
       "      <td>179</td>\n",
       "      <td>1</td>\n",
       "      <td>0.4</td>\n",
       "      <td>2</td>\n",
       "      <td>0</td>\n",
       "      <td>2</td>\n",
       "      <td>1</td>\n",
       "    </tr>\n",
       "    <tr>\n",
       "      <th>27</th>\n",
       "      <td>58</td>\n",
       "      <td>0</td>\n",
       "      <td>1</td>\n",
       "      <td>136</td>\n",
       "      <td>319</td>\n",
       "      <td>1</td>\n",
       "      <td>0</td>\n",
       "      <td>152</td>\n",
       "      <td>0</td>\n",
       "      <td>0.0</td>\n",
       "      <td>2</td>\n",
       "      <td>2</td>\n",
       "      <td>2</td>\n",
       "      <td>0</td>\n",
       "    </tr>\n",
       "    <tr>\n",
       "      <th>28</th>\n",
       "      <td>56</td>\n",
       "      <td>1</td>\n",
       "      <td>2</td>\n",
       "      <td>130</td>\n",
       "      <td>256</td>\n",
       "      <td>1</td>\n",
       "      <td>0</td>\n",
       "      <td>142</td>\n",
       "      <td>1</td>\n",
       "      <td>0.6</td>\n",
       "      <td>1</td>\n",
       "      <td>1</td>\n",
       "      <td>1</td>\n",
       "      <td>0</td>\n",
       "    </tr>\n",
       "    <tr>\n",
       "      <th>29</th>\n",
       "      <td>55</td>\n",
       "      <td>0</td>\n",
       "      <td>0</td>\n",
       "      <td>180</td>\n",
       "      <td>327</td>\n",
       "      <td>0</td>\n",
       "      <td>2</td>\n",
       "      <td>117</td>\n",
       "      <td>1</td>\n",
       "      <td>3.4</td>\n",
       "      <td>1</td>\n",
       "      <td>0</td>\n",
       "      <td>2</td>\n",
       "      <td>0</td>\n",
       "    </tr>\n",
       "    <tr>\n",
       "      <th>30</th>\n",
       "      <td>44</td>\n",
       "      <td>1</td>\n",
       "      <td>0</td>\n",
       "      <td>120</td>\n",
       "      <td>169</td>\n",
       "      <td>0</td>\n",
       "      <td>1</td>\n",
       "      <td>144</td>\n",
       "      <td>1</td>\n",
       "      <td>2.8</td>\n",
       "      <td>0</td>\n",
       "      <td>0</td>\n",
       "      <td>1</td>\n",
       "      <td>0</td>\n",
       "    </tr>\n",
       "    <tr>\n",
       "      <th>31</th>\n",
       "      <td>50</td>\n",
       "      <td>0</td>\n",
       "      <td>1</td>\n",
       "      <td>120</td>\n",
       "      <td>244</td>\n",
       "      <td>0</td>\n",
       "      <td>1</td>\n",
       "      <td>162</td>\n",
       "      <td>0</td>\n",
       "      <td>1.1</td>\n",
       "      <td>2</td>\n",
       "      <td>0</td>\n",
       "      <td>2</td>\n",
       "      <td>1</td>\n",
       "    </tr>\n",
       "    <tr>\n",
       "      <th>32</th>\n",
       "      <td>57</td>\n",
       "      <td>1</td>\n",
       "      <td>0</td>\n",
       "      <td>130</td>\n",
       "      <td>131</td>\n",
       "      <td>0</td>\n",
       "      <td>1</td>\n",
       "      <td>115</td>\n",
       "      <td>1</td>\n",
       "      <td>1.2</td>\n",
       "      <td>1</td>\n",
       "      <td>1</td>\n",
       "      <td>3</td>\n",
       "      <td>0</td>\n",
       "    </tr>\n",
       "    <tr>\n",
       "      <th>33</th>\n",
       "      <td>70</td>\n",
       "      <td>1</td>\n",
       "      <td>2</td>\n",
       "      <td>160</td>\n",
       "      <td>269</td>\n",
       "      <td>0</td>\n",
       "      <td>1</td>\n",
       "      <td>112</td>\n",
       "      <td>1</td>\n",
       "      <td>2.9</td>\n",
       "      <td>1</td>\n",
       "      <td>1</td>\n",
       "      <td>3</td>\n",
       "      <td>0</td>\n",
       "    </tr>\n",
       "    <tr>\n",
       "      <th>34</th>\n",
       "      <td>50</td>\n",
       "      <td>1</td>\n",
       "      <td>2</td>\n",
       "      <td>129</td>\n",
       "      <td>196</td>\n",
       "      <td>0</td>\n",
       "      <td>1</td>\n",
       "      <td>163</td>\n",
       "      <td>0</td>\n",
       "      <td>0.0</td>\n",
       "      <td>2</td>\n",
       "      <td>0</td>\n",
       "      <td>2</td>\n",
       "      <td>1</td>\n",
       "    </tr>\n",
       "    <tr>\n",
       "      <th>35</th>\n",
       "      <td>46</td>\n",
       "      <td>1</td>\n",
       "      <td>2</td>\n",
       "      <td>150</td>\n",
       "      <td>231</td>\n",
       "      <td>0</td>\n",
       "      <td>1</td>\n",
       "      <td>147</td>\n",
       "      <td>0</td>\n",
       "      <td>3.6</td>\n",
       "      <td>1</td>\n",
       "      <td>0</td>\n",
       "      <td>2</td>\n",
       "      <td>0</td>\n",
       "    </tr>\n",
       "    <tr>\n",
       "      <th>36</th>\n",
       "      <td>51</td>\n",
       "      <td>1</td>\n",
       "      <td>3</td>\n",
       "      <td>125</td>\n",
       "      <td>213</td>\n",
       "      <td>0</td>\n",
       "      <td>0</td>\n",
       "      <td>125</td>\n",
       "      <td>1</td>\n",
       "      <td>1.4</td>\n",
       "      <td>2</td>\n",
       "      <td>1</td>\n",
       "      <td>2</td>\n",
       "      <td>1</td>\n",
       "    </tr>\n",
       "    <tr>\n",
       "      <th>37</th>\n",
       "      <td>59</td>\n",
       "      <td>1</td>\n",
       "      <td>0</td>\n",
       "      <td>138</td>\n",
       "      <td>271</td>\n",
       "      <td>0</td>\n",
       "      <td>0</td>\n",
       "      <td>182</td>\n",
       "      <td>0</td>\n",
       "      <td>0.0</td>\n",
       "      <td>2</td>\n",
       "      <td>0</td>\n",
       "      <td>2</td>\n",
       "      <td>1</td>\n",
       "    </tr>\n",
       "    <tr>\n",
       "      <th>38</th>\n",
       "      <td>64</td>\n",
       "      <td>1</td>\n",
       "      <td>0</td>\n",
       "      <td>128</td>\n",
       "      <td>263</td>\n",
       "      <td>0</td>\n",
       "      <td>1</td>\n",
       "      <td>105</td>\n",
       "      <td>1</td>\n",
       "      <td>0.2</td>\n",
       "      <td>1</td>\n",
       "      <td>1</td>\n",
       "      <td>3</td>\n",
       "      <td>1</td>\n",
       "    </tr>\n",
       "    <tr>\n",
       "      <th>39</th>\n",
       "      <td>57</td>\n",
       "      <td>1</td>\n",
       "      <td>2</td>\n",
       "      <td>128</td>\n",
       "      <td>229</td>\n",
       "      <td>0</td>\n",
       "      <td>0</td>\n",
       "      <td>150</td>\n",
       "      <td>0</td>\n",
       "      <td>0.4</td>\n",
       "      <td>1</td>\n",
       "      <td>1</td>\n",
       "      <td>3</td>\n",
       "      <td>0</td>\n",
       "    </tr>\n",
       "    <tr>\n",
       "      <th>40</th>\n",
       "      <td>65</td>\n",
       "      <td>0</td>\n",
       "      <td>2</td>\n",
       "      <td>160</td>\n",
       "      <td>360</td>\n",
       "      <td>0</td>\n",
       "      <td>0</td>\n",
       "      <td>151</td>\n",
       "      <td>0</td>\n",
       "      <td>0.8</td>\n",
       "      <td>2</td>\n",
       "      <td>0</td>\n",
       "      <td>2</td>\n",
       "      <td>1</td>\n",
       "    </tr>\n",
       "    <tr>\n",
       "      <th>41</th>\n",
       "      <td>54</td>\n",
       "      <td>1</td>\n",
       "      <td>2</td>\n",
       "      <td>120</td>\n",
       "      <td>258</td>\n",
       "      <td>0</td>\n",
       "      <td>0</td>\n",
       "      <td>147</td>\n",
       "      <td>0</td>\n",
       "      <td>0.4</td>\n",
       "      <td>1</td>\n",
       "      <td>0</td>\n",
       "      <td>3</td>\n",
       "      <td>1</td>\n",
       "    </tr>\n",
       "    <tr>\n",
       "      <th>42</th>\n",
       "      <td>61</td>\n",
       "      <td>0</td>\n",
       "      <td>0</td>\n",
       "      <td>130</td>\n",
       "      <td>330</td>\n",
       "      <td>0</td>\n",
       "      <td>0</td>\n",
       "      <td>169</td>\n",
       "      <td>0</td>\n",
       "      <td>0.0</td>\n",
       "      <td>2</td>\n",
       "      <td>0</td>\n",
       "      <td>2</td>\n",
       "      <td>0</td>\n",
       "    </tr>\n",
       "    <tr>\n",
       "      <th>43</th>\n",
       "      <td>46</td>\n",
       "      <td>1</td>\n",
       "      <td>0</td>\n",
       "      <td>120</td>\n",
       "      <td>249</td>\n",
       "      <td>0</td>\n",
       "      <td>0</td>\n",
       "      <td>144</td>\n",
       "      <td>0</td>\n",
       "      <td>0.8</td>\n",
       "      <td>2</td>\n",
       "      <td>0</td>\n",
       "      <td>3</td>\n",
       "      <td>0</td>\n",
       "    </tr>\n",
       "    <tr>\n",
       "      <th>44</th>\n",
       "      <td>55</td>\n",
       "      <td>0</td>\n",
       "      <td>1</td>\n",
       "      <td>132</td>\n",
       "      <td>342</td>\n",
       "      <td>0</td>\n",
       "      <td>1</td>\n",
       "      <td>166</td>\n",
       "      <td>0</td>\n",
       "      <td>1.2</td>\n",
       "      <td>2</td>\n",
       "      <td>0</td>\n",
       "      <td>2</td>\n",
       "      <td>1</td>\n",
       "    </tr>\n",
       "    <tr>\n",
       "      <th>45</th>\n",
       "      <td>42</td>\n",
       "      <td>1</td>\n",
       "      <td>0</td>\n",
       "      <td>140</td>\n",
       "      <td>226</td>\n",
       "      <td>0</td>\n",
       "      <td>1</td>\n",
       "      <td>178</td>\n",
       "      <td>0</td>\n",
       "      <td>0.0</td>\n",
       "      <td>2</td>\n",
       "      <td>0</td>\n",
       "      <td>2</td>\n",
       "      <td>1</td>\n",
       "    </tr>\n",
       "    <tr>\n",
       "      <th>46</th>\n",
       "      <td>41</td>\n",
       "      <td>1</td>\n",
       "      <td>1</td>\n",
       "      <td>135</td>\n",
       "      <td>203</td>\n",
       "      <td>0</td>\n",
       "      <td>1</td>\n",
       "      <td>132</td>\n",
       "      <td>0</td>\n",
       "      <td>0.0</td>\n",
       "      <td>1</td>\n",
       "      <td>0</td>\n",
       "      <td>1</td>\n",
       "      <td>1</td>\n",
       "    </tr>\n",
       "    <tr>\n",
       "      <th>47</th>\n",
       "      <td>66</td>\n",
       "      <td>0</td>\n",
       "      <td>0</td>\n",
       "      <td>178</td>\n",
       "      <td>228</td>\n",
       "      <td>1</td>\n",
       "      <td>1</td>\n",
       "      <td>165</td>\n",
       "      <td>1</td>\n",
       "      <td>1.0</td>\n",
       "      <td>1</td>\n",
       "      <td>2</td>\n",
       "      <td>3</td>\n",
       "      <td>0</td>\n",
       "    </tr>\n",
       "    <tr>\n",
       "      <th>48</th>\n",
       "      <td>66</td>\n",
       "      <td>0</td>\n",
       "      <td>2</td>\n",
       "      <td>146</td>\n",
       "      <td>278</td>\n",
       "      <td>0</td>\n",
       "      <td>0</td>\n",
       "      <td>152</td>\n",
       "      <td>0</td>\n",
       "      <td>0.0</td>\n",
       "      <td>1</td>\n",
       "      <td>1</td>\n",
       "      <td>2</td>\n",
       "      <td>1</td>\n",
       "    </tr>\n",
       "    <tr>\n",
       "      <th>49</th>\n",
       "      <td>60</td>\n",
       "      <td>1</td>\n",
       "      <td>0</td>\n",
       "      <td>117</td>\n",
       "      <td>230</td>\n",
       "      <td>1</td>\n",
       "      <td>1</td>\n",
       "      <td>160</td>\n",
       "      <td>1</td>\n",
       "      <td>1.4</td>\n",
       "      <td>2</td>\n",
       "      <td>2</td>\n",
       "      <td>3</td>\n",
       "      <td>0</td>\n",
       "    </tr>\n",
       "  </tbody>\n",
       "</table>\n",
       "</div>"
      ],
      "text/plain": [
       "    age  sex  cp  trestbps  chol  fbs  restecg  thalach  exang  oldpeak  \\\n",
       "0    52    1   0       125   212    0        1      168      0      1.0   \n",
       "1    53    1   0       140   203    1        0      155      1      3.1   \n",
       "2    70    1   0       145   174    0        1      125      1      2.6   \n",
       "3    61    1   0       148   203    0        1      161      0      0.0   \n",
       "4    62    0   0       138   294    1        1      106      0      1.9   \n",
       "5    58    0   0       100   248    0        0      122      0      1.0   \n",
       "6    58    1   0       114   318    0        2      140      0      4.4   \n",
       "7    55    1   0       160   289    0        0      145      1      0.8   \n",
       "8    46    1   0       120   249    0        0      144      0      0.8   \n",
       "9    54    1   0       122   286    0        0      116      1      3.2   \n",
       "10   71    0   0       112   149    0        1      125      0      1.6   \n",
       "11   43    0   0       132   341    1        0      136      1      3.0   \n",
       "12   34    0   1       118   210    0        1      192      0      0.7   \n",
       "13   51    1   0       140   298    0        1      122      1      4.2   \n",
       "14   52    1   0       128   204    1        1      156      1      1.0   \n",
       "15   34    0   1       118   210    0        1      192      0      0.7   \n",
       "16   51    0   2       140   308    0        0      142      0      1.5   \n",
       "17   54    1   0       124   266    0        0      109      1      2.2   \n",
       "18   50    0   1       120   244    0        1      162      0      1.1   \n",
       "19   58    1   2       140   211    1        0      165      0      0.0   \n",
       "20   60    1   2       140   185    0        0      155      0      3.0   \n",
       "21   67    0   0       106   223    0        1      142      0      0.3   \n",
       "22   45    1   0       104   208    0        0      148      1      3.0   \n",
       "23   63    0   2       135   252    0        0      172      0      0.0   \n",
       "24   42    0   2       120   209    0        1      173      0      0.0   \n",
       "25   61    0   0       145   307    0        0      146      1      1.0   \n",
       "26   44    1   2       130   233    0        1      179      1      0.4   \n",
       "27   58    0   1       136   319    1        0      152      0      0.0   \n",
       "28   56    1   2       130   256    1        0      142      1      0.6   \n",
       "29   55    0   0       180   327    0        2      117      1      3.4   \n",
       "30   44    1   0       120   169    0        1      144      1      2.8   \n",
       "31   50    0   1       120   244    0        1      162      0      1.1   \n",
       "32   57    1   0       130   131    0        1      115      1      1.2   \n",
       "33   70    1   2       160   269    0        1      112      1      2.9   \n",
       "34   50    1   2       129   196    0        1      163      0      0.0   \n",
       "35   46    1   2       150   231    0        1      147      0      3.6   \n",
       "36   51    1   3       125   213    0        0      125      1      1.4   \n",
       "37   59    1   0       138   271    0        0      182      0      0.0   \n",
       "38   64    1   0       128   263    0        1      105      1      0.2   \n",
       "39   57    1   2       128   229    0        0      150      0      0.4   \n",
       "40   65    0   2       160   360    0        0      151      0      0.8   \n",
       "41   54    1   2       120   258    0        0      147      0      0.4   \n",
       "42   61    0   0       130   330    0        0      169      0      0.0   \n",
       "43   46    1   0       120   249    0        0      144      0      0.8   \n",
       "44   55    0   1       132   342    0        1      166      0      1.2   \n",
       "45   42    1   0       140   226    0        1      178      0      0.0   \n",
       "46   41    1   1       135   203    0        1      132      0      0.0   \n",
       "47   66    0   0       178   228    1        1      165      1      1.0   \n",
       "48   66    0   2       146   278    0        0      152      0      0.0   \n",
       "49   60    1   0       117   230    1        1      160      1      1.4   \n",
       "\n",
       "    slope  ca  thal  target  \n",
       "0       2   2     3       0  \n",
       "1       0   0     3       0  \n",
       "2       0   0     3       0  \n",
       "3       2   1     3       0  \n",
       "4       1   3     2       0  \n",
       "5       1   0     2       1  \n",
       "6       0   3     1       0  \n",
       "7       1   1     3       0  \n",
       "8       2   0     3       0  \n",
       "9       1   2     2       0  \n",
       "10      1   0     2       1  \n",
       "11      1   0     3       0  \n",
       "12      2   0     2       1  \n",
       "13      1   3     3       0  \n",
       "14      1   0     0       0  \n",
       "15      2   0     2       1  \n",
       "16      2   1     2       1  \n",
       "17      1   1     3       0  \n",
       "18      2   0     2       1  \n",
       "19      2   0     2       1  \n",
       "20      1   0     2       0  \n",
       "21      2   2     2       1  \n",
       "22      1   0     2       1  \n",
       "23      2   0     2       1  \n",
       "24      1   0     2       1  \n",
       "25      1   0     3       0  \n",
       "26      2   0     2       1  \n",
       "27      2   2     2       0  \n",
       "28      1   1     1       0  \n",
       "29      1   0     2       0  \n",
       "30      0   0     1       0  \n",
       "31      2   0     2       1  \n",
       "32      1   1     3       0  \n",
       "33      1   1     3       0  \n",
       "34      2   0     2       1  \n",
       "35      1   0     2       0  \n",
       "36      2   1     2       1  \n",
       "37      2   0     2       1  \n",
       "38      1   1     3       1  \n",
       "39      1   1     3       0  \n",
       "40      2   0     2       1  \n",
       "41      1   0     3       1  \n",
       "42      2   0     2       0  \n",
       "43      2   0     3       0  \n",
       "44      2   0     2       1  \n",
       "45      2   0     2       1  \n",
       "46      1   0     1       1  \n",
       "47      1   2     3       0  \n",
       "48      1   1     2       1  \n",
       "49      2   2     3       0  "
      ]
     },
     "execution_count": 208,
     "metadata": {},
     "output_type": "execute_result"
    }
   ],
   "source": [
    "#importing libaries\n",
    "import numpy as np\n",
    "import pandas as pd\n",
    "import statsmodels.api as sm\n",
    "import scipy.stats as st\n",
    "import matplotlib.pyplot as plt\n",
    "import seaborn as sns\n",
    "from sklearn.metrics import confusion_matrix\n",
    "import matplotlib.pyplot as plt\n",
    "import warnings\n",
    "warnings.filterwarnings('ignore')\n",
    "%matplotlib inline\n",
    "df=pd.read_csv(r'C:\\Users\\Dell\\Desktop\\jupyter\\heart.csv')#extracting the csv file\n",
    "df.head(50)"
   ]
  },
  {
   "cell_type": "markdown",
   "metadata": {},
   "source": [
    "# Data Cleaning and Data Quality checking part"
   ]
  },
  {
   "cell_type": "code",
   "execution_count": 120,
   "metadata": {},
   "outputs": [
    {
     "data": {
      "text/plain": [
       "age         0\n",
       "sex         0\n",
       "cp          0\n",
       "trestbps    0\n",
       "chol        0\n",
       "fbs         0\n",
       "restecg     0\n",
       "thalach     0\n",
       "exang       0\n",
       "oldpeak     0\n",
       "slope       0\n",
       "ca          0\n",
       "thal        0\n",
       "target      0\n",
       "dtype: int64"
      ]
     },
     "execution_count": 120,
     "metadata": {},
     "output_type": "execute_result"
    }
   ],
   "source": [
    "df.isnull().sum() #calculating the null data"
   ]
  },
  {
   "cell_type": "code",
   "execution_count": 121,
   "metadata": {},
   "outputs": [
    {
     "data": {
      "text/plain": [
       "(1025, 14)"
      ]
     },
     "execution_count": 121,
     "metadata": {},
     "output_type": "execute_result"
    }
   ],
   "source": [
    "df.shape#calculating the shape"
   ]
  },
  {
   "cell_type": "code",
   "execution_count": 122,
   "metadata": {},
   "outputs": [
    {
     "name": "stdout",
     "output_type": "stream",
     "text": [
      "<class 'pandas.core.frame.DataFrame'>\n",
      "RangeIndex: 1025 entries, 0 to 1024\n",
      "Data columns (total 14 columns):\n",
      "age         1025 non-null int64\n",
      "sex         1025 non-null int64\n",
      "cp          1025 non-null int64\n",
      "trestbps    1025 non-null int64\n",
      "chol        1025 non-null int64\n",
      "fbs         1025 non-null int64\n",
      "restecg     1025 non-null int64\n",
      "thalach     1025 non-null int64\n",
      "exang       1025 non-null int64\n",
      "oldpeak     1025 non-null float64\n",
      "slope       1025 non-null int64\n",
      "ca          1025 non-null int64\n",
      "thal        1025 non-null int64\n",
      "target      1025 non-null int64\n",
      "dtypes: float64(1), int64(13)\n",
      "memory usage: 112.2 KB\n"
     ]
    }
   ],
   "source": [
    "df.info()#information of each and every column"
   ]
  },
  {
   "cell_type": "markdown",
   "metadata": {},
   "source": [
    "# Analysis Part"
   ]
  },
  {
   "cell_type": "code",
   "execution_count": 123,
   "metadata": {},
   "outputs": [
    {
     "name": "stdout",
     "output_type": "stream",
     "text": [
      "1    526\n",
      "0    499\n",
      "Name: target, dtype: int64\n"
     ]
    },
    {
     "data": {
      "image/png": "[encoded data removed]",
      "text/plain": [
       "<Figure size 432x288 with 1 Axes>"
      ]
     },
     "metadata": {
      "needs_background": "light"
     },
     "output_type": "display_data"
    }
   ],
   "source": [
    "ax=sns.countplot(x='target',data=df)\n",
    "print(df['target'].value_counts())"
   ]
  },
  {
   "cell_type": "code",
   "execution_count": 124,
   "metadata": {},
   "outputs": [
    {
     "data": {
      "image/png": "[encoded data removed]",
      "text/plain": [
       "<Figure size 432x288 with 1 Axes>"
      ]
     },
     "metadata": {
      "needs_background": "light"
     },
     "output_type": "display_data"
    }
   ],
   "source": [
    "sns.countplot(x='target',hue='sex',data=df)\n",
    "plt.show()"
   ]
  },
  {
   "cell_type": "code",
   "execution_count": 125,
   "metadata": {},
   "outputs": [
    {
     "data": {
      "image/png": "[encoded data removed]",
      "text/plain": [
       "<Figure size 432x288 with 1 Axes>"
      ]
     },
     "metadata": {
      "needs_background": "light"
     },
     "output_type": "display_data"
    }
   ],
   "source": [
    "sns.countplot(x='cp',hue='target',data=df)\n",
    "plt.show()"
   ]
  },
  {
   "cell_type": "code",
   "execution_count": 126,
   "metadata": {},
   "outputs": [
    {
     "data": {
      "image/png": "[encoded data removed]",
      "text/plain": [
       "<Figure size 432x288 with 1 Axes>"
      ]
     },
     "metadata": {
      "needs_background": "light"
     },
     "output_type": "display_data"
    }
   ],
   "source": [
    "sns.countplot(x='fbs',hue='target',data=df)\n",
    "plt.show()"
   ]
  },
  {
   "cell_type": "code",
   "execution_count": 127,
   "metadata": {},
   "outputs": [
    {
     "data": {
      "image/png": "[encoded data removed]",
      "text/plain": [
       "<Figure size 432x288 with 1 Axes>"
      ]
     },
     "metadata": {
      "needs_background": "light"
     },
     "output_type": "display_data"
    }
   ],
   "source": [
    "sns.countplot(x='restecg',hue='target',data=df)\n",
    "plt.show()"
   ]
  },
  {
   "cell_type": "code",
   "execution_count": 128,
   "metadata": {},
   "outputs": [
    {
     "data": {
      "image/png": "[encoded data removed]",
      "text/plain": [
       "<Figure size 432x288 with 1 Axes>"
      ]
     },
     "metadata": {
      "needs_background": "light"
     },
     "output_type": "display_data"
    }
   ],
   "source": [
    "sns.countplot(x='exang',hue='target',data=df)\n",
    "plt.show()"
   ]
  },
  {
   "cell_type": "code",
   "execution_count": 129,
   "metadata": {},
   "outputs": [
    {
     "data": {
      "image/png": "[encoded data removed]",
      "text/plain": [
       "<Figure size 432x288 with 1 Axes>"
      ]
     },
     "metadata": {
      "needs_background": "light"
     },
     "output_type": "display_data"
    }
   ],
   "source": [
    "sns.countplot(x='slope',hue='target',data=df)\n",
    "plt.show()"
   ]
  },
  {
   "cell_type": "code",
   "execution_count": 130,
   "metadata": {},
   "outputs": [
    {
     "data": {
      "image/png": "[encoded data removed]",
      "text/plain": [
       "<Figure size 432x288 with 1 Axes>"
      ]
     },
     "metadata": {
      "needs_background": "light"
     },
     "output_type": "display_data"
    }
   ],
   "source": [
    "sns.countplot(x='ca',hue='target',data=df)\n",
    "plt.show()"
   ]
  },
  {
   "cell_type": "code",
   "execution_count": 131,
   "metadata": {},
   "outputs": [
    {
     "data": {
      "image/png": "[encoded data removed]",
      "text/plain": [
       "<Figure size 432x288 with 1 Axes>"
      ]
     },
     "metadata": {
      "needs_background": "light"
     },
     "output_type": "display_data"
    }
   ],
   "source": [
    "sns.countplot(x='thal',hue='target',data=df)\n",
    "plt.show()"
   ]
  },
  {
   "cell_type": "code",
   "execution_count": 132,
   "metadata": {},
   "outputs": [],
   "source": [
    "continuous=[\"age\", \"trestbps\", \"chol\", \"thalach\", \"oldpeak\", \"target\"]"
   ]
  },
  {
   "cell_type": "code",
   "execution_count": 133,
   "metadata": {},
   "outputs": [
    {
     "data": {
      "image/png": "[encoded data removed]",
      "text/plain": [
       "<Figure size 1122.38x1080 with 42 Axes>"
      ]
     },
     "metadata": {
      "needs_background": "light"
     },
     "output_type": "display_data"
    }
   ],
   "source": [
    "sns.pairplot(data=df[continuous],hue='target',diag_kind='kde')\n",
    "#plt.gcf().set_size_inches(20,15)\n",
    "plt.show()"
   ]
  },
  {
   "cell_type": "code",
   "execution_count": 134,
   "metadata": {},
   "outputs": [
    {
     "data": {
      "text/html": [
       "<div>\n",
       "<style scoped>\n",
       "    .dataframe tbody tr th:only-of-type {\n",
       "        vertical-align: middle;\n",
       "    }\n",
       "\n",
       "    .dataframe tbody tr th {\n",
       "        vertical-align: top;\n",
       "    }\n",
       "\n",
       "    .dataframe thead th {\n",
       "        text-align: right;\n",
       "    }\n",
       "</style>\n",
       "<table border=\"1\" class=\"dataframe\">\n",
       "  <thead>\n",
       "    <tr style=\"text-align: right;\">\n",
       "      <th></th>\n",
       "      <th>const</th>\n",
       "      <th>age</th>\n",
       "      <th>sex</th>\n",
       "      <th>cp</th>\n",
       "      <th>trestbps</th>\n",
       "      <th>chol</th>\n",
       "      <th>fbs</th>\n",
       "      <th>restecg</th>\n",
       "      <th>thalach</th>\n",
       "      <th>exang</th>\n",
       "      <th>oldpeak</th>\n",
       "      <th>slope</th>\n",
       "      <th>ca</th>\n",
       "      <th>thal</th>\n",
       "      <th>target</th>\n",
       "    </tr>\n",
       "  </thead>\n",
       "  <tbody>\n",
       "    <tr>\n",
       "      <th>0</th>\n",
       "      <td>1.0</td>\n",
       "      <td>52</td>\n",
       "      <td>1</td>\n",
       "      <td>0</td>\n",
       "      <td>125</td>\n",
       "      <td>212</td>\n",
       "      <td>0</td>\n",
       "      <td>1</td>\n",
       "      <td>168</td>\n",
       "      <td>0</td>\n",
       "      <td>1.0</td>\n",
       "      <td>2</td>\n",
       "      <td>2</td>\n",
       "      <td>3</td>\n",
       "      <td>0</td>\n",
       "    </tr>\n",
       "    <tr>\n",
       "      <th>1</th>\n",
       "      <td>1.0</td>\n",
       "      <td>53</td>\n",
       "      <td>1</td>\n",
       "      <td>0</td>\n",
       "      <td>140</td>\n",
       "      <td>203</td>\n",
       "      <td>1</td>\n",
       "      <td>0</td>\n",
       "      <td>155</td>\n",
       "      <td>1</td>\n",
       "      <td>3.1</td>\n",
       "      <td>0</td>\n",
       "      <td>0</td>\n",
       "      <td>3</td>\n",
       "      <td>0</td>\n",
       "    </tr>\n",
       "    <tr>\n",
       "      <th>2</th>\n",
       "      <td>1.0</td>\n",
       "      <td>70</td>\n",
       "      <td>1</td>\n",
       "      <td>0</td>\n",
       "      <td>145</td>\n",
       "      <td>174</td>\n",
       "      <td>0</td>\n",
       "      <td>1</td>\n",
       "      <td>125</td>\n",
       "      <td>1</td>\n",
       "      <td>2.6</td>\n",
       "      <td>0</td>\n",
       "      <td>0</td>\n",
       "      <td>3</td>\n",
       "      <td>0</td>\n",
       "    </tr>\n",
       "    <tr>\n",
       "      <th>3</th>\n",
       "      <td>1.0</td>\n",
       "      <td>61</td>\n",
       "      <td>1</td>\n",
       "      <td>0</td>\n",
       "      <td>148</td>\n",
       "      <td>203</td>\n",
       "      <td>0</td>\n",
       "      <td>1</td>\n",
       "      <td>161</td>\n",
       "      <td>0</td>\n",
       "      <td>0.0</td>\n",
       "      <td>2</td>\n",
       "      <td>1</td>\n",
       "      <td>3</td>\n",
       "      <td>0</td>\n",
       "    </tr>\n",
       "    <tr>\n",
       "      <th>4</th>\n",
       "      <td>1.0</td>\n",
       "      <td>62</td>\n",
       "      <td>0</td>\n",
       "      <td>0</td>\n",
       "      <td>138</td>\n",
       "      <td>294</td>\n",
       "      <td>1</td>\n",
       "      <td>1</td>\n",
       "      <td>106</td>\n",
       "      <td>0</td>\n",
       "      <td>1.9</td>\n",
       "      <td>1</td>\n",
       "      <td>3</td>\n",
       "      <td>2</td>\n",
       "      <td>0</td>\n",
       "    </tr>\n",
       "  </tbody>\n",
       "</table>\n",
       "</div>"
      ],
      "text/plain": [
       "   const  age  sex  cp  trestbps  chol  fbs  restecg  thalach  exang  oldpeak  \\\n",
       "0    1.0   52    1   0       125   212    0        1      168      0      1.0   \n",
       "1    1.0   53    1   0       140   203    1        0      155      1      3.1   \n",
       "2    1.0   70    1   0       145   174    0        1      125      1      2.6   \n",
       "3    1.0   61    1   0       148   203    0        1      161      0      0.0   \n",
       "4    1.0   62    0   0       138   294    1        1      106      0      1.9   \n",
       "\n",
       "   slope  ca  thal  target  \n",
       "0      2   2     3       0  \n",
       "1      0   0     3       0  \n",
       "2      0   0     3       0  \n",
       "3      2   1     3       0  \n",
       "4      1   3     2       0  "
      ]
     },
     "execution_count": 134,
     "metadata": {},
     "output_type": "execute_result"
    }
   ],
   "source": [
    "from statsmodels.tools import add_constant as add_constant\n",
    "df_constant = add_constant(df)\n",
    "df_constant.head()"
   ]
  },
  {
   "cell_type": "code",
   "execution_count": 135,
   "metadata": {},
   "outputs": [
    {
     "name": "stdout",
     "output_type": "stream",
     "text": [
      "Optimization terminated successfully.\n",
      "         Current function value: 0.350681\n",
      "         Iterations 7\n"
     ]
    },
    {
     "data": {
      "text/html": [
       "<table class=\"simpletable\">\n",
       "<caption>Logit Regression Results</caption>\n",
       "<tr>\n",
       "  <th>Dep. Variable:</th>        <td>target</td>      <th>  No. Observations:  </th>   <td>  1025</td>  \n",
       "</tr>\n",
       "<tr>\n",
       "  <th>Model:</th>                 <td>Logit</td>      <th>  Df Residuals:      </th>   <td>  1011</td>  \n",
       "</tr>\n",
       "<tr>\n",
       "  <th>Method:</th>                 <td>MLE</td>       <th>  Df Model:          </th>   <td>    13</td>  \n",
       "</tr>\n",
       "<tr>\n",
       "  <th>Date:</th>            <td>Mon, 04 Nov 2019</td> <th>  Pseudo R-squ.:     </th>   <td>0.4938</td>  \n",
       "</tr>\n",
       "<tr>\n",
       "  <th>Time:</th>                <td>22:31:42</td>     <th>  Log-Likelihood:    </th>  <td> -359.45</td> \n",
       "</tr>\n",
       "<tr>\n",
       "  <th>converged:</th>             <td>True</td>       <th>  LL-Null:           </th>  <td> -710.12</td> \n",
       "</tr>\n",
       "<tr>\n",
       "  <th>Covariance Type:</th>     <td>nonrobust</td>    <th>  LLR p-value:       </th> <td>1.777e-141</td>\n",
       "</tr>\n",
       "</table>\n",
       "<table class=\"simpletable\">\n",
       "<tr>\n",
       "      <td></td>        <th>coef</th>     <th>std err</th>      <th>z</th>      <th>P>|z|</th>  <th>[0.025</th>    <th>0.975]</th>  \n",
       "</tr>\n",
       "<tr>\n",
       "  <th>const</th>    <td>    3.6902</td> <td>    1.401</td> <td>    2.633</td> <td> 0.008</td> <td>    0.944</td> <td>    6.437</td>\n",
       "</tr>\n",
       "<tr>\n",
       "  <th>age</th>      <td>   -0.0082</td> <td>    0.013</td> <td>   -0.650</td> <td> 0.516</td> <td>   -0.033</td> <td>    0.017</td>\n",
       "</tr>\n",
       "<tr>\n",
       "  <th>sex</th>      <td>   -1.8465</td> <td>    0.257</td> <td>   -7.197</td> <td> 0.000</td> <td>   -2.349</td> <td>   -1.344</td>\n",
       "</tr>\n",
       "<tr>\n",
       "  <th>cp</th>       <td>    0.8546</td> <td>    0.100</td> <td>    8.516</td> <td> 0.000</td> <td>    0.658</td> <td>    1.051</td>\n",
       "</tr>\n",
       "<tr>\n",
       "  <th>trestbps</th> <td>   -0.0182</td> <td>    0.006</td> <td>   -3.245</td> <td> 0.001</td> <td>   -0.029</td> <td>   -0.007</td>\n",
       "</tr>\n",
       "<tr>\n",
       "  <th>chol</th>     <td>   -0.0057</td> <td>    0.002</td> <td>   -2.757</td> <td> 0.006</td> <td>   -0.010</td> <td>   -0.002</td>\n",
       "</tr>\n",
       "<tr>\n",
       "  <th>fbs</th>      <td>   -0.1012</td> <td>    0.285</td> <td>   -0.355</td> <td> 0.723</td> <td>   -0.659</td> <td>    0.457</td>\n",
       "</tr>\n",
       "<tr>\n",
       "  <th>restecg</th>  <td>    0.4132</td> <td>    0.189</td> <td>    2.187</td> <td> 0.029</td> <td>    0.043</td> <td>    0.784</td>\n",
       "</tr>\n",
       "<tr>\n",
       "  <th>thalach</th>  <td>    0.0236</td> <td>    0.006</td> <td>    4.158</td> <td> 0.000</td> <td>    0.012</td> <td>    0.035</td>\n",
       "</tr>\n",
       "<tr>\n",
       "  <th>exang</th>    <td>   -0.9908</td> <td>    0.224</td> <td>   -4.418</td> <td> 0.000</td> <td>   -1.430</td> <td>   -0.551</td>\n",
       "</tr>\n",
       "<tr>\n",
       "  <th>oldpeak</th>  <td>   -0.5707</td> <td>    0.116</td> <td>   -4.920</td> <td> 0.000</td> <td>   -0.798</td> <td>   -0.343</td>\n",
       "</tr>\n",
       "<tr>\n",
       "  <th>slope</th>    <td>    0.5341</td> <td>    0.189</td> <td>    2.831</td> <td> 0.005</td> <td>    0.164</td> <td>    0.904</td>\n",
       "</tr>\n",
       "<tr>\n",
       "  <th>ca</th>       <td>   -0.7545</td> <td>    0.103</td> <td>   -7.321</td> <td> 0.000</td> <td>   -0.956</td> <td>   -0.553</td>\n",
       "</tr>\n",
       "<tr>\n",
       "  <th>thal</th>     <td>   -0.8861</td> <td>    0.156</td> <td>   -5.693</td> <td> 0.000</td> <td>   -1.191</td> <td>   -0.581</td>\n",
       "</tr>\n",
       "</table>"
      ],
      "text/plain": [
       "<class 'statsmodels.iolib.summary.Summary'>\n",
       "\"\"\"\n",
       "                           Logit Regression Results                           \n",
       "==============================================================================\n",
       "Dep. Variable:                 target   No. Observations:                 1025\n",
       "Model:                          Logit   Df Residuals:                     1011\n",
       "Method:                           MLE   Df Model:                           13\n",
       "Date:                Mon, 04 Nov 2019   Pseudo R-squ.:                  0.4938\n",
       "Time:                        22:31:42   Log-Likelihood:                -359.45\n",
       "converged:                       True   LL-Null:                       -710.12\n",
       "Covariance Type:            nonrobust   LLR p-value:                1.777e-141\n",
       "==============================================================================\n",
       "                 coef    std err          z      P>|z|      [0.025      0.975]\n",
       "------------------------------------------------------------------------------\n",
       "const          3.6902      1.401      2.633      0.008       0.944       6.437\n",
       "age           -0.0082      0.013     -0.650      0.516      -0.033       0.017\n",
       "sex           -1.8465      0.257     -7.197      0.000      -2.349      -1.344\n",
       "cp             0.8546      0.100      8.516      0.000       0.658       1.051\n",
       "trestbps      -0.0182      0.006     -3.245      0.001      -0.029      -0.007\n",
       "chol          -0.0057      0.002     -2.757      0.006      -0.010      -0.002\n",
       "fbs           -0.1012      0.285     -0.355      0.723      -0.659       0.457\n",
       "restecg        0.4132      0.189      2.187      0.029       0.043       0.784\n",
       "thalach        0.0236      0.006      4.158      0.000       0.012       0.035\n",
       "exang         -0.9908      0.224     -4.418      0.000      -1.430      -0.551\n",
       "oldpeak       -0.5707      0.116     -4.920      0.000      -0.798      -0.343\n",
       "slope          0.5341      0.189      2.831      0.005       0.164       0.904\n",
       "ca            -0.7545      0.103     -7.321      0.000      -0.956      -0.553\n",
       "thal          -0.8861      0.156     -5.693      0.000      -1.191      -0.581\n",
       "==============================================================================\n",
       "\"\"\""
      ]
     },
     "execution_count": 135,
     "metadata": {},
     "output_type": "execute_result"
    }
   ],
   "source": [
    "st.chisqprob = lambda chisq, df: st.chi2.sf(chisq, df)\n",
    "cols=df_constant.columns[:-1]\n",
    "model=sm.Logit(df.target,df_constant[cols])\n",
    "result=model.fit()\n",
    "result.summary()"
   ]
  },
  {
   "cell_type": "markdown",
   "metadata": {},
   "source": [
    "# Feature Selection using Backward Elimination Method"
   ]
  },
  {
   "cell_type": "code",
   "execution_count": 136,
   "metadata": {},
   "outputs": [],
   "source": [
    "def back_feature_elem (data_frame,dep_var,col_list):\n",
    "    \"\"\" Takes in the dataframe, the dependent variable and a list of column names, runs the regression repeatedly eleminating feature with the highest\n",
    "    P-value above alpha one at a time and returns the regression summary with all p-values below alpha\"\"\"\n",
    "\n",
    "    while len(col_list)>0 :\n",
    "        model=sm.Logit(dep_var,data_frame[col_list])\n",
    "        result=model.fit(disp=0)\n",
    "        largest_pvalue=round(result.pvalues,3).nlargest(1)\n",
    "        if largest_pvalue[0]<(0.05):\n",
    "            return result\n",
    "            break\n",
    "        else:\n",
    "            col_list=col_list.drop(largest_pvalue.index)\n",
    "\n",
    "result=back_feature_elem(df_constant,df.target,cols)"
   ]
  },
  {
   "cell_type": "code",
   "execution_count": 137,
   "metadata": {},
   "outputs": [
    {
     "data": {
      "text/html": [
       "<table class=\"simpletable\">\n",
       "<caption>Logit Regression Results</caption>\n",
       "<tr>\n",
       "  <th>Dep. Variable:</th>        <td>target</td>      <th>  No. Observations:  </th>   <td>  1025</td>  \n",
       "</tr>\n",
       "<tr>\n",
       "  <th>Model:</th>                 <td>Logit</td>      <th>  Df Residuals:      </th>   <td>  1013</td>  \n",
       "</tr>\n",
       "<tr>\n",
       "  <th>Method:</th>                 <td>MLE</td>       <th>  Df Model:          </th>   <td>    11</td>  \n",
       "</tr>\n",
       "<tr>\n",
       "  <th>Date:</th>            <td>Mon, 04 Nov 2019</td> <th>  Pseudo R-squ.:     </th>   <td>0.4934</td>  \n",
       "</tr>\n",
       "<tr>\n",
       "  <th>Time:</th>                <td>22:31:43</td>     <th>  Log-Likelihood:    </th>  <td> -359.75</td> \n",
       "</tr>\n",
       "<tr>\n",
       "  <th>converged:</th>             <td>True</td>       <th>  LL-Null:           </th>  <td> -710.12</td> \n",
       "</tr>\n",
       "<tr>\n",
       "  <th>Covariance Type:</th>     <td>nonrobust</td>    <th>  LLR p-value:       </th> <td>3.740e-143</td>\n",
       "</tr>\n",
       "</table>\n",
       "<table class=\"simpletable\">\n",
       "<tr>\n",
       "      <td></td>        <th>coef</th>     <th>std err</th>      <th>z</th>      <th>P>|z|</th>  <th>[0.025</th>    <th>0.975]</th>  \n",
       "</tr>\n",
       "<tr>\n",
       "  <th>const</th>    <td>    3.1815</td> <td>    1.159</td> <td>    2.746</td> <td> 0.006</td> <td>    0.910</td> <td>    5.453</td>\n",
       "</tr>\n",
       "<tr>\n",
       "  <th>sex</th>      <td>   -1.8340</td> <td>    0.254</td> <td>   -7.216</td> <td> 0.000</td> <td>   -2.332</td> <td>   -1.336</td>\n",
       "</tr>\n",
       "<tr>\n",
       "  <th>cp</th>       <td>    0.8457</td> <td>    0.098</td> <td>    8.592</td> <td> 0.000</td> <td>    0.653</td> <td>    1.039</td>\n",
       "</tr>\n",
       "<tr>\n",
       "  <th>trestbps</th> <td>   -0.0193</td> <td>    0.005</td> <td>   -3.553</td> <td> 0.000</td> <td>   -0.030</td> <td>   -0.009</td>\n",
       "</tr>\n",
       "<tr>\n",
       "  <th>chol</th>     <td>   -0.0059</td> <td>    0.002</td> <td>   -2.928</td> <td> 0.003</td> <td>   -0.010</td> <td>   -0.002</td>\n",
       "</tr>\n",
       "<tr>\n",
       "  <th>restecg</th>  <td>    0.4284</td> <td>    0.188</td> <td>    2.277</td> <td> 0.023</td> <td>    0.060</td> <td>    0.797</td>\n",
       "</tr>\n",
       "<tr>\n",
       "  <th>thalach</th>  <td>    0.0251</td> <td>    0.005</td> <td>    4.808</td> <td> 0.000</td> <td>    0.015</td> <td>    0.035</td>\n",
       "</tr>\n",
       "<tr>\n",
       "  <th>exang</th>    <td>   -0.9904</td> <td>    0.223</td> <td>   -4.441</td> <td> 0.000</td> <td>   -1.427</td> <td>   -0.553</td>\n",
       "</tr>\n",
       "<tr>\n",
       "  <th>oldpeak</th>  <td>   -0.5645</td> <td>    0.115</td> <td>   -4.894</td> <td> 0.000</td> <td>   -0.791</td> <td>   -0.338</td>\n",
       "</tr>\n",
       "<tr>\n",
       "  <th>slope</th>    <td>    0.5414</td> <td>    0.188</td> <td>    2.885</td> <td> 0.004</td> <td>    0.174</td> <td>    0.909</td>\n",
       "</tr>\n",
       "<tr>\n",
       "  <th>ca</th>       <td>   -0.7659</td> <td>    0.102</td> <td>   -7.545</td> <td> 0.000</td> <td>   -0.965</td> <td>   -0.567</td>\n",
       "</tr>\n",
       "<tr>\n",
       "  <th>thal</th>     <td>   -0.8768</td> <td>    0.152</td> <td>   -5.750</td> <td> 0.000</td> <td>   -1.176</td> <td>   -0.578</td>\n",
       "</tr>\n",
       "</table>"
      ],
      "text/plain": [
       "<class 'statsmodels.iolib.summary.Summary'>\n",
       "\"\"\"\n",
       "                           Logit Regression Results                           \n",
       "==============================================================================\n",
       "Dep. Variable:                 target   No. Observations:                 1025\n",
       "Model:                          Logit   Df Residuals:                     1013\n",
       "Method:                           MLE   Df Model:                           11\n",
       "Date:                Mon, 04 Nov 2019   Pseudo R-squ.:                  0.4934\n",
       "Time:                        22:31:43   Log-Likelihood:                -359.75\n",
       "converged:                       True   LL-Null:                       -710.12\n",
       "Covariance Type:            nonrobust   LLR p-value:                3.740e-143\n",
       "==============================================================================\n",
       "                 coef    std err          z      P>|z|      [0.025      0.975]\n",
       "------------------------------------------------------------------------------\n",
       "const          3.1815      1.159      2.746      0.006       0.910       5.453\n",
       "sex           -1.8340      0.254     -7.216      0.000      -2.332      -1.336\n",
       "cp             0.8457      0.098      8.592      0.000       0.653       1.039\n",
       "trestbps      -0.0193      0.005     -3.553      0.000      -0.030      -0.009\n",
       "chol          -0.0059      0.002     -2.928      0.003      -0.010      -0.002\n",
       "restecg        0.4284      0.188      2.277      0.023       0.060       0.797\n",
       "thalach        0.0251      0.005      4.808      0.000       0.015       0.035\n",
       "exang         -0.9904      0.223     -4.441      0.000      -1.427      -0.553\n",
       "oldpeak       -0.5645      0.115     -4.894      0.000      -0.791      -0.338\n",
       "slope          0.5414      0.188      2.885      0.004       0.174       0.909\n",
       "ca            -0.7659      0.102     -7.545      0.000      -0.965      -0.567\n",
       "thal          -0.8768      0.152     -5.750      0.000      -1.176      -0.578\n",
       "==============================================================================\n",
       "\"\"\""
      ]
     },
     "execution_count": 137,
     "metadata": {},
     "output_type": "execute_result"
    }
   ],
   "source": [
    "result.summary()"
   ]
  },
  {
   "cell_type": "code",
   "execution_count": 138,
   "metadata": {},
   "outputs": [
    {
     "name": "stdout",
     "output_type": "stream",
     "text": [
      "          CI 95%(2.5%)  CI 95%(97.5%)  Odds Ratio  pvalue\n",
      "const         2.485288     233.365715   24.082796   0.006\n",
      "sex           0.097090       0.262943    0.159778   0.000\n",
      "cp            1.920932       2.825459    2.329703   0.000\n",
      "trestbps      0.970446       0.991369    0.980852   0.000\n",
      "chol          0.990128       0.998038    0.994075   0.003\n",
      "restecg       1.061542       2.219033    1.534795   0.023\n",
      "thalach       1.014953       1.035902    1.025374   0.000\n",
      "exang         0.239913       0.575027    0.371425   0.000\n",
      "oldpeak       0.453596       0.712920    0.568663   0.000\n",
      "slope         1.189631       2.482216    1.718406   0.004\n",
      "ca            0.381046       0.567259    0.464921   0.000\n",
      "thal          0.308622       0.561085    0.416129   0.000\n"
     ]
    }
   ],
   "source": [
    "params = np.exp(result.params)\n",
    "conf = np.exp(result.conf_int())\n",
    "conf['OR'] = params\n",
    "pvalue=round(result.pvalues,3)\n",
    "conf['pvalue']=pvalue\n",
    "conf.columns = ['CI 95%(2.5%)', 'CI 95%(97.5%)', 'Odds Ratio','pvalue']\n",
    "print ((conf))"
   ]
  },
  {
   "cell_type": "code",
   "execution_count": 139,
   "metadata": {},
   "outputs": [
    {
     "data": {
      "image/png": "[encoded data removed]",
      "text/plain": [
       "<Figure size 1440x720 with 2 Axes>"
      ]
     },
     "metadata": {
      "needs_background": "light"
     },
     "output_type": "display_data"
    }
   ],
   "source": [
    "plt.figure(figsize = (20,10))        # Size of the figure\n",
    "sns.heatmap(df.corr(),annot = True)\n",
    "plt.show()"
   ]
  },
  {
   "cell_type": "markdown",
   "metadata": {},
   "source": [
    "# Spliting the dataset into training and testing dataset"
   ]
  },
  {
   "cell_type": "code",
   "execution_count": 140,
   "metadata": {},
   "outputs": [],
   "source": [
    "import sklearn\n",
    "from sklearn.model_selection import train_test_split\n",
    "new_features=df[['sex','cp','trestbps','chol','restecg','thalach','exang','oldpeak','slope','ca','thal']]\n",
    "x=new_features\n",
    "y=df['target']\n",
    "x_train,x_test,y_train,y_test=train_test_split(x,y,test_size=0.3,random_state=5)"
   ]
  },
  {
   "cell_type": "markdown",
   "metadata": {},
   "source": [
    "Implementation of Logistic Regression Algorithm"
   ]
  },
  {
   "cell_type": "code",
   "execution_count": 210,
   "metadata": {},
   "outputs": [],
   "source": [
    "class Logistic_Regression:\n",
    "    def __init__(self,lr=0.01,num_iter=100000,fit_intercept=True,verbose=False):\n",
    "        self.lr=lr\n",
    "        self.num_iter=num_iter\n",
    "        self.fit_intercept=fit_intercept\n",
    "        self.verbose=verbose\n",
    "    def sigmoid(self,z):\n",
    "        return 1/(1+np.exp(-z))\n",
    "    def add_intercept(self,X):\n",
    "        intercept=np.ones((X.shape[0],1))\n",
    "        return np.concatenate((intercept,X),axis=1)\n",
    "    def loss(self,h,y):\n",
    "        return(-y*np.log(h)-(1-y) * np.log(1-h)).mean()\n",
    "    def fit(self,X,y):\n",
    "        if self.fit_intercept:\n",
    "            X=self.add_intercept(X)\n",
    "        self.theta=np.zeros(X.shape[1])\n",
    "        for i in range(100000):\n",
    "            z=np.dot(X,self.theta)\n",
    "            h=self.sigmoid(z)\n",
    "            gradient=np.dot(X.T,(h-y))/y.size\n",
    "            self.theta-=self.lr*gradient\n",
    "            if(self.verbose==True and i%10000==0):\n",
    "                z=np.dot(X,self.theta)\n",
    "                h=self.sigmoid(z)\n",
    "                print(f'loss:{self.loss(h,y)} \\t')\n",
    "    def predict_prob(self,X):\n",
    "        X=self.add_intercept(X)\n",
    "        return self.sigmoid(np.dot(X,self.theta))\n",
    "    def predict(self,X):\n",
    "        return self.predict_prob(X)"
   ]
  },
  {
   "cell_type": "markdown",
   "metadata": {},
   "source": [
    "# Building a Model using algorithms such as Logistic Regression,Naives Bayes,Random Forest Classifier and Decision Tree Classifier"
   ]
  },
  {
   "cell_type": "code",
   "execution_count": 221,
   "metadata": {},
   "outputs": [],
   "source": [
    "from sklearn.tree import DecisionTreeClassifier\n",
    "from sklearn.ensemble import RandomForestClassifier\n",
    "from sklearn.naive_bayes import GaussianNB\n",
    "logreg=Logistic_Regression()\n",
    "random=RandomForestClassifier()\n",
    "decision=DecisionTreeClassifier(criterion=\"entropy\",random_state=100)#using ID3 algorithm of decision tree classifier\n",
    "naives=GaussianNB()\n",
    "logreg.fit(x_train,y_train)\n",
    "naives.fit(x_train,y_train)\n",
    "decision.fit(x_train,y_train)\n",
    "random.fit(x_train,y_train)\n",
    "y_model1=logreg.predict(x_train)\n",
    "y_model2=naives.predict(x_train)\n",
    "y_model3=random.predict(x_train)\n",
    "y_model4=decision.predict(x_train)"
   ]
  },
  {
   "cell_type": "code",
   "execution_count": 213,
   "metadata": {},
   "outputs": [],
   "source": [
    "#predicting probability of 0 and 1 in target variables.\n",
    "y_model1_prob=logreg.predict_prob(x_train)\n",
    "y_model2_prob=naives.predict_proba(x_train)\n",
    "y_model3_prob=random.predict_proba(x_train)\n",
    "y_model4_prob=decision.predict_proba(x_train)"
   ]
  },
  {
   "cell_type": "code",
   "execution_count": 220,
   "metadata": {},
   "outputs": [],
   "source": [
    "#predicting probability of 1 in target variables.\n",
    "#y_model1_prob1=y_model1_prob[:,1]\n",
    "y_model2_prob1=y_model2_prob[:,1]\n",
    "y_model3_prob1=y_model3_prob[:,1]\n",
    "y_model4_prob1=y_model4_prob[:,1]"
   ]
  },
  {
   "cell_type": "code",
   "execution_count": 215,
   "metadata": {},
   "outputs": [],
   "source": [
    "y_model1_pred_final = pd.DataFrame({'target':y_train.values, 'target_Prob':y_model1_prob1})\n",
    "y_model2_pred_final = pd.DataFrame({'target':y_train.values, 'target_Prob':y_model2_prob1})\n",
    "y_model3_pred_final = pd.DataFrame({'target':y_train.values, 'target_Prob':y_model3_prob1})\n",
    "y_model4_pred_final = pd.DataFrame({'target':y_train.values, 'target_Prob':y_model4_prob1})"
   ]
  },
  {
   "cell_type": "code",
   "execution_count": 216,
   "metadata": {},
   "outputs": [],
   "source": [
    "y_model1_pred_final['predicted'] = y_model1_pred_final.target_Prob.map(lambda x: 1 if x > 0.5 else 0)\n",
    "y_model2_pred_final['predicted'] = y_model2_pred_final.target_Prob.map(lambda x: 1 if x > 0.5 else 0)\n",
    "y_model3_pred_final['predicted'] = y_model3_pred_final.target_Prob.map(lambda x: 1 if x > 0.5 else 0)\n",
    "y_model4_pred_final['predicted'] = y_model4_pred_final.target_Prob.map(lambda x: 1 if x > 0.5 else 0)"
   ]
  },
  {
   "cell_type": "code",
   "execution_count": 146,
   "metadata": {},
   "outputs": [],
   "source": [
    "from sklearn import metrics"
   ]
  },
  {
   "cell_type": "markdown",
   "metadata": {},
   "source": [
    "Logistic Regression confusion matrix"
   ]
  },
  {
   "cell_type": "code",
   "execution_count": 217,
   "metadata": {},
   "outputs": [
    {
     "data": {
      "text/plain": [
       "<matplotlib.axes._subplots.AxesSubplot at 0x11ebf780>"
      ]
     },
     "execution_count": 217,
     "metadata": {},
     "output_type": "execute_result"
    },
    {
     "data": {
      "image/png": "[encoded data removed]",
      "text/plain": [
       "<Figure size 576x360 with 2 Axes>"
      ]
     },
     "metadata": {
      "needs_background": "light"
     },
     "output_type": "display_data"
    }
   ],
   "source": [
    "from sklearn.metrics import confusion_matrix\n",
    "cm1=confusion_matrix(y_model1_pred_final.target, y_model1_pred_final.predicted)\n",
    "conf_matrix=pd.DataFrame(data=cm1,columns=['Predicted:0','Predicted:1'],index=['Actual:0','Actual:1'])\n",
    "plt.figure(figsize = (8,5))\n",
    "sns.heatmap(conf_matrix, annot=True,fmt='d',cmap=\"YlGnBu\")"
   ]
  },
  {
   "cell_type": "code",
   "execution_count": 218,
   "metadata": {},
   "outputs": [],
   "source": [
    "TP1= cm1[1,1] # true positive \n",
    "TN1= cm1[0,0] # true negatives\n",
    "FP1= cm1[0,1] # false positives\n",
    "FN1= cm1[1,0] # false negatives"
   ]
  },
  {
   "cell_type": "code",
   "execution_count": 219,
   "metadata": {},
   "outputs": [
    {
     "name": "stdout",
     "output_type": "stream",
     "text": [
      "sensitivity= 0.9112903225806451\n",
      "specificity= 0.7797101449275362\n",
      "false postive rate - predicting churn when customer does not have churned= 0.22028985507246376\n",
      "positive predictive value= 0.8168674698795181\n",
      "Negative predictive value= 0.890728476821192\n"
     ]
    }
   ],
   "source": [
    "# Let's see the sensitivity\n",
    "print(\"sensitivity=\",TP1/ float(TP1+FN1))\n",
    "# Let us calculate specificity\n",
    "print(\"specificity=\",TN1 / float(TN1+FP1))\n",
    "# Calculate false postive rate - predicting churn when customer does not have churned\n",
    "print(\"false postive rate - predicting churn when customer does not have churned=\",FP1/ float(TN1+FP1))\n",
    "# positive predictive value \n",
    "print (\"positive predictive value=\",TP1/ float(TP1+FP1))\n",
    "# Negative predictive value\n",
    "print (\"Negative predictive value=\",TN1/ float(TN1+ FN1))"
   ]
  },
  {
   "cell_type": "markdown",
   "metadata": {},
   "source": [
    "Naives Bayes confusion matrix"
   ]
  },
  {
   "cell_type": "code",
   "execution_count": 150,
   "metadata": {},
   "outputs": [
    {
     "data": {
      "text/plain": [
       "<matplotlib.axes._subplots.AxesSubplot at 0xf47ccc0>"
      ]
     },
     "execution_count": 150,
     "metadata": {},
     "output_type": "execute_result"
    },
    {
     "data": {
      "image/png": "[encoded data removed]",
      "text/plain": [
       "<Figure size 576x360 with 2 Axes>"
      ]
     },
     "metadata": {
      "needs_background": "light"
     },
     "output_type": "display_data"
    }
   ],
   "source": [
    "from sklearn.metrics import confusion_matrix\n",
    "cm2=confusion_matrix(y_model2_pred_final.target, y_model2_pred_final.predicted)\n",
    "conf_matrix=pd.DataFrame(data=cm2,columns=['Predicted:0','Predicted:1'],index=['Actual:0','Actual:1'])\n",
    "plt.figure(figsize = (8,5))\n",
    "sns.heatmap(conf_matrix, annot=True,fmt='d',cmap=\"YlGnBu\")"
   ]
  },
  {
   "cell_type": "code",
   "execution_count": 151,
   "metadata": {},
   "outputs": [],
   "source": [
    "TP2= cm2[1,1] # true positive \n",
    "TN2= cm2[0,0] # true negatives\n",
    "FP2= cm2[0,1] # false positives\n",
    "FN2= cm2[1,0] # false negatives"
   ]
  },
  {
   "cell_type": "code",
   "execution_count": 152,
   "metadata": {},
   "outputs": [
    {
     "name": "stdout",
     "output_type": "stream",
     "text": [
      "sensitivity= 0.8870967741935484\n",
      "specificity= 0.8115942028985508\n",
      "false postive rate - predicting churn when customer does not have churned= 0.18840579710144928\n",
      "positive predictive value= 0.8354430379746836\n",
      "Negative predictive value= 0.8695652173913043\n"
     ]
    }
   ],
   "source": [
    "# Let's see the sensitivity\n",
    "print(\"sensitivity=\",TP2/ float(TP2+FN2))\n",
    "# Let us calculate specificity\n",
    "print(\"specificity=\",TN2/ float(TN2+FP2))\n",
    "# Calculate false postive rate - predicting churn when customer does not have churned\n",
    "print(\"false postive rate - predicting churn when customer does not have churned=\",FP2/ float(TN2+FP2))\n",
    "# positive predictive value \n",
    "print (\"positive predictive value=\",TP2/ float(TP2+FP2))\n",
    "# Negative predictive value\n",
    "print (\"Negative predictive value=\",TN2 / float(TN2+ FN2))"
   ]
  },
  {
   "cell_type": "markdown",
   "metadata": {},
   "source": [
    "Random Forest Classifier Confusion Matrix"
   ]
  },
  {
   "cell_type": "code",
   "execution_count": 153,
   "metadata": {},
   "outputs": [
    {
     "data": {
      "text/plain": [
       "<matplotlib.axes._subplots.AxesSubplot at 0x1027c048>"
      ]
     },
     "execution_count": 153,
     "metadata": {},
     "output_type": "execute_result"
    },
    {
     "data": {
      "image/png": "[encoded data removed]",
      "text/plain": [
       "<Figure size 576x360 with 2 Axes>"
      ]
     },
     "metadata": {
      "needs_background": "light"
     },
     "output_type": "display_data"
    }
   ],
   "source": [
    "from sklearn.metrics import confusion_matrix\n",
    "cm3=confusion_matrix(y_model3_pred_final.target, y_model3_pred_final.predicted)\n",
    "conf_matrix=pd.DataFrame(data=cm3,columns=['Predicted:0','Predicted:1'],index=['Actual:0','Actual:1'])\n",
    "plt.figure(figsize = (8,5))\n",
    "sns.heatmap(conf_matrix, annot=True,fmt='d',cmap=\"YlGnBu\")"
   ]
  },
  {
   "cell_type": "code",
   "execution_count": 154,
   "metadata": {},
   "outputs": [],
   "source": [
    "TP3= cm3[1,1] # true positive \n",
    "TN3= cm3[0,0] # true negatives\n",
    "FP3= cm3[0,1] # false positives\n",
    "FN3= cm3[1,0] # false negatives"
   ]
  },
  {
   "cell_type": "code",
   "execution_count": 155,
   "metadata": {},
   "outputs": [
    {
     "name": "stdout",
     "output_type": "stream",
     "text": [
      "sensitivity= 1.0\n",
      "specificity= 1.0\n",
      "false postive rate - predicting churn when customer does not have churned= 0.0\n",
      "positive predictive value= 1.0\n",
      "Negative predictive value= 1.0\n"
     ]
    }
   ],
   "source": [
    "# Let's see the sensitivity\n",
    "print(\"sensitivity=\",TP3/ float(TP3+FN3))\n",
    "# Let us calculate specificity\n",
    "print(\"specificity=\",TN3/ float(TN3+FP3))\n",
    "# Calculate false postive rate - predicting churn when customer does not have churned\n",
    "print(\"false postive rate - predicting churn when customer does not have churned=\",FP3/ float(TN3+FP3))\n",
    "# positive predictive value \n",
    "print (\"positive predictive value=\",TP3/ float(TP3+FP3))\n",
    "# Negative predictive value\n",
    "print (\"Negative predictive value=\",TN3/ float(TN3+ FN3))"
   ]
  },
  {
   "cell_type": "markdown",
   "metadata": {},
   "source": [
    "Decision Tree Classifier confusion matrix"
   ]
  },
  {
   "cell_type": "code",
   "execution_count": 156,
   "metadata": {},
   "outputs": [
    {
     "data": {
      "text/plain": [
       "<matplotlib.axes._subplots.AxesSubplot at 0xcbef940>"
      ]
     },
     "execution_count": 156,
     "metadata": {},
     "output_type": "execute_result"
    },
    {
     "data": {
      "image/png": "[encoded data removed]",
      "text/plain": [
       "<Figure size 576x360 with 2 Axes>"
      ]
     },
     "metadata": {
      "needs_background": "light"
     },
     "output_type": "display_data"
    }
   ],
   "source": [
    "from sklearn.metrics import confusion_matrix\n",
    "cm4=confusion_matrix(y_model4_pred_final.target, y_model4_pred_final.predicted)\n",
    "conf_matrix=pd.DataFrame(data=cm4,columns=['Predicted:0','Predicted:1'],index=['Actual:0','Actual:1'])\n",
    "plt.figure(figsize = (8,5))\n",
    "sns.heatmap(conf_matrix, annot=True,fmt='d',cmap=\"YlGnBu\")"
   ]
  },
  {
   "cell_type": "code",
   "execution_count": 157,
   "metadata": {},
   "outputs": [],
   "source": [
    "TP4= cm4[1,1] # true positive \n",
    "TN4= cm4[0,0] # true negatives\n",
    "FP4= cm4[0,1] # false positives\n",
    "FN4 = cm4[1,0] # false negatives"
   ]
  },
  {
   "cell_type": "code",
   "execution_count": 158,
   "metadata": {},
   "outputs": [
    {
     "name": "stdout",
     "output_type": "stream",
     "text": [
      "sensitivity= 1.0\n",
      "specificity= 1.0\n",
      "false postive rate - predicting churn when customer does not have churned= 0.0\n",
      "positive predictive value= 1.0\n",
      "Negative predictive value= 1.0\n"
     ]
    }
   ],
   "source": [
    "# Let's see the sensitivity\n",
    "print(\"sensitivity=\",TP4 / float(TP4+FN4))\n",
    "# Let us calculate specificity\n",
    "print(\"specificity=\",TN4 / float(TN4+FP4))\n",
    "# Calculate false postive rate - predicting churn when customer does not have churned\n",
    "print(\"false postive rate - predicting churn when customer does not have churned=\",FP4/ float(TN4+FP4))\n",
    "# positive predictive value \n",
    "print (\"positive predictive value=\",TP4/ float(TP4+FP4))\n",
    "# Negative predictive value\n",
    "print (\"Negative predictive value=\",TN4 / float(TN4+ FN4))"
   ]
  },
  {
   "cell_type": "code",
   "execution_count": 159,
   "metadata": {},
   "outputs": [
    {
     "name": "stdout",
     "output_type": "stream",
     "text": [
      "Logistic Regression Accuracy: 84.79776847977685\n",
      "Naives Bayes Accuracy: 85.07670850767084\n",
      "Random Forest Classifier Accuracy: 100.0\n",
      "Decision Tree Classifier Accuracy: 100.0\n"
     ]
    }
   ],
   "source": [
    "model1_accuracy=(metrics.accuracy_score(y_model1_pred_final.target, y_model1_pred_final.predicted))*100\n",
    "model2_accuracy=(metrics.accuracy_score(y_model2_pred_final.target, y_model2_pred_final.predicted))*100\n",
    "model3_accuracy=(metrics.accuracy_score(y_model3_pred_final.target, y_model3_pred_final.predicted))*100\n",
    "model4_accuracy=(metrics.accuracy_score(y_model4_pred_final.target, y_model4_pred_final.predicted))*100\n",
    "print(\"Logistic Regression Accuracy:\",model1_accuracy)\n",
    "print(\"Naives Bayes Accuracy:\",model2_accuracy)\n",
    "print(\"Random Forest Classifier Accuracy:\",model3_accuracy)\n",
    "print(\"Decision Tree Classifier Accuracy:\",model4_accuracy)"
   ]
  },
  {
   "cell_type": "markdown",
   "metadata": {},
   "source": [
    "# Esembling the four Models"
   ]
  },
  {
   "cell_type": "code",
   "execution_count": 160,
   "metadata": {},
   "outputs": [],
   "source": [
    "from sklearn.ensemble import VotingClassifier\n",
    "estimators=[('log',logreg),('dec',decision),('ran',random),('nav',naives)]\n",
    "ensemble = VotingClassifier(estimators)\n",
    "ensemble.fit(x_train,y_train)\n",
    "y_ensemble=ensemble.predict(x_train)"
   ]
  },
  {
   "cell_type": "markdown",
   "metadata": {},
   "source": [
    "Finding accuracy of ensemble model"
   ]
  },
  {
   "cell_type": "code",
   "execution_count": 161,
   "metadata": {},
   "outputs": [
    {
     "data": {
      "text/plain": [
       "0.9595536959553695"
      ]
     },
     "execution_count": 161,
     "metadata": {},
     "output_type": "execute_result"
    }
   ],
   "source": [
    "target_final=np.array(y_train)\n",
    "t=len(target_final)\n",
    "count=0\n",
    "for i in range(t):\n",
    "    if(target_final[i]==y_ensemble[i]):\n",
    "        count=count+1\n",
    "accuracy=count/t\n",
    "accuracy"
   ]
  },
  {
   "cell_type": "code",
   "execution_count": 162,
   "metadata": {},
   "outputs": [
    {
     "data": {
      "text/plain": [
       "<matplotlib.axes._subplots.AxesSubplot at 0x6601eb8>"
      ]
     },
     "execution_count": 162,
     "metadata": {},
     "output_type": "execute_result"
    },
    {
     "data": {
      "image/png": "[encoded data removed]",
      "text/plain": [
       "<Figure size 576x360 with 2 Axes>"
      ]
     },
     "metadata": {
      "needs_background": "light"
     },
     "output_type": "display_data"
    }
   ],
   "source": [
    "cm_ensemble=confusion_matrix(target_final,y_ensemble)\n",
    "conf_matrix=pd.DataFrame(data=cm_ensemble,columns=['Predicted:0','Predicted:1'],index=['Actual:0','Actual:1'])\n",
    "plt.figure(figsize = (8,5))\n",
    "sns.heatmap(conf_matrix, annot=True,fmt='d',cmap=\"YlGnBu\")"
   ]
  },
  {
   "cell_type": "code",
   "execution_count": 163,
   "metadata": {},
   "outputs": [],
   "source": [
    "TP_ensemble= cm_ensemble[1,1] # true positive \n",
    "TN_ensemble= cm_ensemble[0,0] # true negatives\n",
    "FP_ensemble= cm_ensemble[0,1] # false positives\n",
    "FN_ensemble= cm_ensemble[1,0] # false negatives"
   ]
  },
  {
   "cell_type": "code",
   "execution_count": 164,
   "metadata": {},
   "outputs": [
    {
     "name": "stdout",
     "output_type": "stream",
     "text": [
      "sensitivity= 0.9220430107526881\n",
      "specificity= 1.0\n",
      "false postive rate - predicting churn when customer does not have churned= 0.0\n",
      "positive predictive value= 1.0\n",
      "Negative predictive value= 0.9224598930481284\n"
     ]
    }
   ],
   "source": [
    "# Let's see the sensitivity\n",
    "print(\"sensitivity=\",TP_ensemble/ float(TP_ensemble+FN_ensemble))\n",
    "# Let us calculate specificity\n",
    "print(\"specificity=\",TN_ensemble / float(TN_ensemble+FP_ensemble))\n",
    "# Calculate false postive rate - predicting churn when customer does not have churned\n",
    "print(\"false postive rate - predicting churn when customer does not have churned=\",FP_ensemble/ float(TN_ensemble+FP_ensemble))\n",
    "# positive predictive value \n",
    "print (\"positive predictive value=\",TP_ensemble/ float(TP_ensemble+FP_ensemble))\n",
    "# Negative predictive value\n",
    "print (\"Negative predictive value=\",TN_ensemble/ float(TN_ensemble+ FN_ensemble))"
   ]
  },
  {
   "cell_type": "code",
   "execution_count": 165,
   "metadata": {},
   "outputs": [],
   "source": [
    "def draw_roc( actual, probs ):\n",
    "    fpr, tpr, thresholds = metrics.roc_curve( actual, probs,\n",
    "                                              drop_intermediate = False )\n",
    "    auc_score = metrics.roc_auc_score( actual, probs )\n",
    "    plt.figure(figsize=(5, 5))\n",
    "    plt.plot( fpr, tpr, label='ROC curve (area = %0.2f)' % auc_score )\n",
    "    plt.plot([0, 1], [0, 1], 'k--')\n",
    "    plt.xlim([0.0, 1.0])\n",
    "    plt.ylim([0.0, 1.05])\n",
    "    plt.xlabel('False Positive Rate or [1 - True Negative Rate]')\n",
    "    plt.ylabel('True Positive Rate')\n",
    "    plt.title('Receiver operating characteristic example')\n",
    "    plt.legend(loc=\"lower right\")\n",
    "    plt.show()\n",
    "\n",
    "    return None"
   ]
  },
  {
   "cell_type": "code",
   "execution_count": 166,
   "metadata": {},
   "outputs": [],
   "source": [
    "fpr, tpr, thresholds = metrics.roc_curve(target_final,y_ensemble,drop_intermediate = False )"
   ]
  },
  {
   "cell_type": "code",
   "execution_count": 167,
   "metadata": {},
   "outputs": [
    {
     "data": {
      "image/png": "[encoded data removed]",
      "text/plain": [
       "<Figure size 360x360 with 1 Axes>"
      ]
     },
     "metadata": {
      "needs_background": "light"
     },
     "output_type": "display_data"
    }
   ],
   "source": [
    "draw_roc(target_final,y_ensemble)"
   ]
  },
  {
   "cell_type": "markdown",
   "metadata": {},
   "source": [
    "Precision and recall of train data"
   ]
  },
  {
   "cell_type": "code",
   "execution_count": 168,
   "metadata": {},
   "outputs": [],
   "source": [
    "from sklearn.metrics import precision_score, recall_score#importing sklearn libraies to calculate recall and precision"
   ]
  },
  {
   "cell_type": "code",
   "execution_count": 169,
   "metadata": {},
   "outputs": [
    {
     "data": {
      "text/plain": [
       "1.0"
      ]
     },
     "execution_count": 169,
     "metadata": {},
     "output_type": "execute_result"
    }
   ],
   "source": [
    "#calculating precision\n",
    "precision_score(target_final, y_ensemble)"
   ]
  },
  {
   "cell_type": "code",
   "execution_count": 170,
   "metadata": {},
   "outputs": [
    {
     "data": {
      "text/plain": [
       "0.9220430107526881"
      ]
     },
     "execution_count": 170,
     "metadata": {},
     "output_type": "execute_result"
    }
   ],
   "source": [
    "#calculating recall\n",
    "recall_score(target_final, y_ensemble)"
   ]
  },
  {
   "cell_type": "markdown",
   "metadata": {},
   "source": [
    "# Making Predictions On Test Data"
   ]
  },
  {
   "cell_type": "code",
   "execution_count": 171,
   "metadata": {},
   "outputs": [],
   "source": [
    "y_test_model1=logreg.predict(x_test)\n",
    "y_test_model2=naives.predict(x_test)\n",
    "y_test_model3=random.predict(x_test)\n",
    "y_test_model4=decision.predict(x_test)"
   ]
  },
  {
   "cell_type": "code",
   "execution_count": 172,
   "metadata": {},
   "outputs": [],
   "source": [
    "y_test_model1_prob=logreg.predict_proba(x_test)\n",
    "y_test_model2_prob=naives.predict_proba(x_test)\n",
    "y_test_model3_prob=random.predict_proba(x_test)\n",
    "y_test_model4_prob=decision.predict_proba(x_test)"
   ]
  },
  {
   "cell_type": "code",
   "execution_count": 173,
   "metadata": {},
   "outputs": [],
   "source": [
    "y_test_model1_prob1=y_test_model1_prob[:,1]\n",
    "y_test_model2_prob1=y_test_model2_prob[:,1]\n",
    "y_test_model3_prob1=y_test_model3_prob[:,1]\n",
    "y_test_model4_prob1=y_test_model4_prob[:,1]"
   ]
  },
  {
   "cell_type": "code",
   "execution_count": 174,
   "metadata": {},
   "outputs": [],
   "source": [
    "y_test_model1_pred_prob=pd.DataFrame(y_test_model1_prob1)\n",
    "y_test_model2_pred_prob=pd.DataFrame(y_test_model2_prob1)\n",
    "y_test_model3_pred_prob=pd.DataFrame(y_test_model3_prob1)\n",
    "y_test_model4_pred_prob=pd.DataFrame(y_test_model4_prob1)"
   ]
  },
  {
   "cell_type": "code",
   "execution_count": 175,
   "metadata": {},
   "outputs": [],
   "source": [
    "y_model1_pred=pd.DataFrame(y_test_model1_pred_prob)\n",
    "y_model2_pred=pd.DataFrame(y_test_model2_pred_prob)\n",
    "y_model3_pred=pd.DataFrame(y_test_model3_pred_prob)\n",
    "y_model4_pred=pd.DataFrame(y_test_model4_pred_prob)"
   ]
  },
  {
   "cell_type": "code",
   "execution_count": 176,
   "metadata": {},
   "outputs": [],
   "source": [
    "y_test_df=pd.DataFrame(y_test)\n",
    "y_test_df.reset_index(drop=True,inplace=True)"
   ]
  },
  {
   "cell_type": "code",
   "execution_count": 177,
   "metadata": {},
   "outputs": [],
   "source": [
    "y_test_model1_pred_prob.reset_index(drop=True,inplace=True)\n",
    "y_test_model2_pred_prob.reset_index(drop=True,inplace=True)\n",
    "y_test_model3_pred_prob.reset_index(drop=True,inplace=True)\n",
    "y_test_model4_pred_prob.reset_index(drop=True,inplace=True)"
   ]
  },
  {
   "cell_type": "code",
   "execution_count": 178,
   "metadata": {},
   "outputs": [],
   "source": [
    "y_pred_model1_final=pd.concat([y_test_df,y_test_model1_pred_prob],axis=1)\n",
    "y_pred_model2_final=pd.concat([y_test_df,y_test_model2_pred_prob],axis=1)\n",
    "y_pred_model3_final=pd.concat([y_test_df,y_test_model3_pred_prob],axis=1)\n",
    "y_pred_model4_final=pd.concat([y_test_df,y_test_model4_pred_prob],axis=1)"
   ]
  },
  {
   "cell_type": "code",
   "execution_count": 179,
   "metadata": {},
   "outputs": [],
   "source": [
    "y_pred_model1_final=y_pred_model1_final.rename(columns={0:'disease_prob'})\n",
    "y_pred_model2_final=y_pred_model2_final.rename(columns={0:'disease_prob'})\n",
    "y_pred_model3_final=y_pred_model3_final.rename(columns={0:'disease_prob'})\n",
    "y_pred_model4_final=y_pred_model4_final.rename(columns={0:'disease_prob'})"
   ]
  },
  {
   "cell_type": "code",
   "execution_count": 180,
   "metadata": {},
   "outputs": [],
   "source": [
    "y_pred_model1_final=y_pred_model1_final.reindex_axis(['target','disease_prob'],axis=1)\n",
    "y_pred_model2_final=y_pred_model2_final.reindex_axis(['target','disease_prob'],axis=1)\n",
    "y_pred_model3_final=y_pred_model3_final.reindex_axis(['target','disease_prob'],axis=1)\n",
    "y_pred_model4_final=y_pred_model4_final.reindex_axis(['target','disease_prob'],axis=1)"
   ]
  },
  {
   "cell_type": "code",
   "execution_count": 181,
   "metadata": {},
   "outputs": [],
   "source": [
    "y_pred_model1_final['final_predicted']=y_pred_model1_final.disease_prob.map(lambda x:1 if x>0.55 else 0)\n",
    "y_pred_model2_final['final_predicted']=y_pred_model2_final.disease_prob.map(lambda x:1 if x>0.55 else 0)\n",
    "y_pred_model3_final['final_predicted']=y_pred_model3_final.disease_prob.map(lambda x:1 if x>0.55 else 0)\n",
    "y_pred_model4_final['final_predicted']=y_pred_model4_final.disease_prob.map(lambda x:1 if x>0.55 else 0)"
   ]
  },
  {
   "cell_type": "code",
   "execution_count": 182,
   "metadata": {},
   "outputs": [
    {
     "name": "stdout",
     "output_type": "stream",
     "text": [
      "Logistic Regression: 85.3896103896104\n",
      "Naives Bayes: 84.0909090909091\n",
      "Random Forest Classifier: 100.0\n",
      "Decision Tree Classifier: 100.0\n"
     ]
    }
   ],
   "source": [
    "print(\"Logistic Regression:\",metrics.accuracy_score(y_pred_model1_final.target,y_pred_model1_final.final_predicted)*100)\n",
    "print(\"Naives Bayes:\",metrics.accuracy_score(y_pred_model2_final.target,y_pred_model2_final.final_predicted)*100)\n",
    "print(\"Random Forest Classifier:\",metrics.accuracy_score(y_pred_model3_final.target,y_pred_model3_final.final_predicted)*100)\n",
    "print(\"Decision Tree Classifier:\",metrics.accuracy_score(y_pred_model4_final.target,y_pred_model4_final.final_predicted)*100)"
   ]
  },
  {
   "cell_type": "code",
   "execution_count": 183,
   "metadata": {},
   "outputs": [
    {
     "data": {
      "text/plain": [
       "<matplotlib.axes._subplots.AxesSubplot at 0x101b7438>"
      ]
     },
     "execution_count": 183,
     "metadata": {},
     "output_type": "execute_result"
    },
    {
     "data": {
      "image/png": "[encoded data removed]",
      "text/plain": [
       "<Figure size 576x360 with 2 Axes>"
      ]
     },
     "metadata": {
      "needs_background": "light"
     },
     "output_type": "display_data"
    }
   ],
   "source": [
    "confusion1= metrics.confusion_matrix(y_pred_model1_final.target, y_pred_model1_final.final_predicted )\n",
    "conf_matrix=pd.DataFrame(data=confusion1,columns=['Predicted:0','Predicted:1'],index=['Actual:0','Actual:1'])\n",
    "plt.figure(figsize = (8,5))\n",
    "sns.heatmap(conf_matrix, annot=True,fmt='d',cmap=\"YlGnBu\")"
   ]
  },
  {
   "cell_type": "code",
   "execution_count": 184,
   "metadata": {},
   "outputs": [
    {
     "data": {
      "text/plain": [
       "<matplotlib.axes._subplots.AxesSubplot at 0xcce0630>"
      ]
     },
     "execution_count": 184,
     "metadata": {},
     "output_type": "execute_result"
    },
    {
     "data": {
      "image/png": "[encoded data removed]",
      "text/plain": [
       "<Figure size 576x360 with 2 Axes>"
      ]
     },
     "metadata": {
      "needs_background": "light"
     },
     "output_type": "display_data"
    }
   ],
   "source": [
    "confusion2 = metrics.confusion_matrix(y_pred_model2_final.target, y_pred_model2_final.final_predicted )\n",
    "conf_matrix=pd.DataFrame(data=confusion2,columns=['Predicted:0','Predicted:1'],index=['Actual:0','Actual:1'])\n",
    "plt.figure(figsize = (8,5))\n",
    "sns.heatmap(conf_matrix, annot=True,fmt='d',cmap=\"YlGnBu\")"
   ]
  },
  {
   "cell_type": "code",
   "execution_count": 185,
   "metadata": {},
   "outputs": [
    {
     "data": {
      "text/plain": [
       "<matplotlib.axes._subplots.AxesSubplot at 0xce4f198>"
      ]
     },
     "execution_count": 185,
     "metadata": {},
     "output_type": "execute_result"
    },
    {
     "data": {
      "image/png": "[encoded data removed]",
      "text/plain": [
       "<Figure size 576x360 with 2 Axes>"
      ]
     },
     "metadata": {
      "needs_background": "light"
     },
     "output_type": "display_data"
    }
   ],
   "source": [
    "confusion3 = metrics.confusion_matrix(y_pred_model3_final.target, y_pred_model3_final.final_predicted )\n",
    "conf_matrix=pd.DataFrame(data=confusion3,columns=['Predicted:0','Predicted:1'],index=['Actual:0','Actual:1'])\n",
    "plt.figure(figsize = (8,5))\n",
    "sns.heatmap(conf_matrix, annot=True,fmt='d',cmap=\"YlGnBu\")"
   ]
  },
  {
   "cell_type": "code",
   "execution_count": 186,
   "metadata": {},
   "outputs": [
    {
     "data": {
      "text/plain": [
       "<matplotlib.axes._subplots.AxesSubplot at 0xc2aa3c8>"
      ]
     },
     "execution_count": 186,
     "metadata": {},
     "output_type": "execute_result"
    },
    {
     "data": {
      "image/png": "[encoded data removed]",
      "text/plain": [
       "<Figure size 576x360 with 2 Axes>"
      ]
     },
     "metadata": {
      "needs_background": "light"
     },
     "output_type": "display_data"
    }
   ],
   "source": [
    "confusion4= metrics.confusion_matrix(y_pred_model4_final.target, y_pred_model4_final.final_predicted )\n",
    "conf_matrix=pd.DataFrame(data=confusion4,columns=['Predicted:0','Predicted:1'],index=['Actual:0','Actual:1'])\n",
    "plt.figure(figsize = (8,5))\n",
    "sns.heatmap(conf_matrix, annot=True,fmt='d',cmap=\"YlGnBu\")"
   ]
  },
  {
   "cell_type": "code",
   "execution_count": 187,
   "metadata": {},
   "outputs": [],
   "source": [
    "y_ensemble_test=ensemble.predict(x_test)"
   ]
  },
  {
   "cell_type": "code",
   "execution_count": 188,
   "metadata": {},
   "outputs": [
    {
     "data": {
      "text/plain": [
       "0.9707792207792207"
      ]
     },
     "execution_count": 188,
     "metadata": {},
     "output_type": "execute_result"
    }
   ],
   "source": [
    "target_final_test=np.array(y_test)\n",
    "t=len(target_final_test)\n",
    "count=0\n",
    "for i in range(t):\n",
    "    if(target_final_test[i]==y_ensemble_test[i]):\n",
    "        count=count+1\n",
    "accuracy=count/t\n",
    "accuracy"
   ]
  },
  {
   "cell_type": "code",
   "execution_count": 189,
   "metadata": {},
   "outputs": [
    {
     "data": {
      "text/plain": [
       "<matplotlib.axes._subplots.AxesSubplot at 0xc9acdd8>"
      ]
     },
     "execution_count": 189,
     "metadata": {},
     "output_type": "execute_result"
    },
    {
     "data": {
      "image/png": "[encoded data removed]",
      "text/plain": [
       "<Figure size 576x360 with 2 Axes>"
      ]
     },
     "metadata": {
      "needs_background": "light"
     },
     "output_type": "display_data"
    }
   ],
   "source": [
    "confusion_ensemble=confusion_matrix(target_final_test,y_ensemble_test)\n",
    "conf_matrix=pd.DataFrame(data=confusion_ensemble,columns=['Predicted:0','Predicted:1'],index=['Actual:0','Actual:1'])\n",
    "plt.figure(figsize = (8,5))\n",
    "sns.heatmap(conf_matrix, annot=True,fmt='d',cmap=\"YlGnBu\")"
   ]
  },
  {
   "cell_type": "code",
   "execution_count": 190,
   "metadata": {},
   "outputs": [
    {
     "name": "stdout",
     "output_type": "stream",
     "text": [
      "Sensitivity: 0.9415584415584416\n",
      "Specificity: 1.0\n"
     ]
    }
   ],
   "source": [
    "TP= confusion_ensemble[1,1] # true positive \n",
    "TN = confusion_ensemble[0,0] # true negatives\n",
    "FP = confusion_ensemble[0,1] # false positives\n",
    "FN = confusion_ensemble[1,0] # false negatives\n",
    "# Let's see the sensitivity of our logistic regression model\n",
    "print(\"Sensitivity:\",TP / float(TP+FN))\n",
    "# Let us calculate specificity\n",
    "print(\"Specificity:\",TN / float(TN+FP))"
   ]
  },
  {
   "cell_type": "markdown",
   "metadata": {},
   "source": [
    "Formula to calculate Precision=True Positive/(True Positive+False Positive),\n",
    "Formula to calculate Recall=True Positive/(True Positive+False Negative)"
   ]
  },
  {
   "cell_type": "code",
   "execution_count": 191,
   "metadata": {},
   "outputs": [
    {
     "name": "stdout",
     "output_type": "stream",
     "text": [
      "Precision: 1.0\n",
      "Recall: 0.9415584415584416\n",
      "F_score: 0.9698996655518395\n"
     ]
    }
   ],
   "source": [
    "#calculating precision\n",
    "precision=precision_score(target_final_test,y_ensemble_test)\n",
    "#calculating recall\n",
    "recall=recall_score(target_final_test,y_ensemble_test)\n",
    "F1 = 2 * (precision * recall) / (precision + recall)\n",
    "print(\"Precision:\",precision)\n",
    "print(\"Recall:\",recall)\n",
    "print(\"F_score:\",F1)"
   ]
  },
  {
   "cell_type": "code",
   "execution_count": 192,
   "metadata": {},
   "outputs": [
    {
     "name": "stdout",
     "output_type": "stream",
     "text": [
      "Requirement already satisfied: SpeechRecognition in c:\\users\\dell\\anaconda3\\lib\\site-packages (3.8.1)\n"
     ]
    }
   ],
   "source": [
    "!pip install SpeechRecognition"
   ]
  },
  {
   "cell_type": "code",
   "execution_count": 193,
   "metadata": {},
   "outputs": [
    {
     "name": "stdout",
     "output_type": "stream",
     "text": [
      "Requirement already satisfied: playsound in c:\\users\\dell\\anaconda3\\lib\\site-packages (1.2.2)\n"
     ]
    }
   ],
   "source": [
    "!pip install playsound"
   ]
  },
  {
   "cell_type": "code",
   "execution_count": 194,
   "metadata": {},
   "outputs": [
    {
     "name": "stdout",
     "output_type": "stream",
     "text": [
      "Requirement already satisfied: wolframalpha in c:\\users\\dell\\anaconda3\\lib\\site-packages (3.0.1)\n",
      "Requirement already satisfied: six in c:\\users\\dell\\anaconda3\\lib\\site-packages (from wolframalpha) (1.12.0)\n",
      "Requirement already satisfied: jaraco.itertools>=2.0 in c:\\users\\dell\\anaconda3\\lib\\site-packages (from wolframalpha) (4.4.2)\n",
      "Requirement already satisfied: xmltodict in c:\\users\\dell\\anaconda3\\lib\\site-packages (from wolframalpha) (0.12.0)\n",
      "Requirement already satisfied: inflect in c:\\users\\dell\\anaconda3\\lib\\site-packages (from jaraco.itertools>=2.0->wolframalpha) (2.1.0)\n",
      "Requirement already satisfied: more-itertools>=4.0.0 in c:\\users\\dell\\anaconda3\\lib\\site-packages (from jaraco.itertools>=2.0->wolframalpha) (7.0.0)\n"
     ]
    }
   ],
   "source": [
    "!pip install wolframalpha"
   ]
  },
  {
   "cell_type": "code",
   "execution_count": 195,
   "metadata": {},
   "outputs": [
    {
     "name": "stdout",
     "output_type": "stream",
     "text": [
      "Requirement already satisfied: selenium in c:\\users\\dell\\anaconda3\\lib\\site-packages (3.141.0)\n",
      "Requirement already satisfied: urllib3 in c:\\users\\dell\\anaconda3\\lib\\site-packages (from selenium) (1.24.2)\n"
     ]
    }
   ],
   "source": [
    "!pip install selenium"
   ]
  },
  {
   "cell_type": "code",
   "execution_count": 196,
   "metadata": {},
   "outputs": [
    {
     "name": "stdout",
     "output_type": "stream",
     "text": [
      "Requirement already satisfied: pyttsx3 in c:\\users\\dell\\anaconda3\\lib\\site-packages (2.71)\n",
      "Requirement already satisfied: pypiwin32; \"win32\" in sys_platform in c:\\users\\dell\\anaconda3\\lib\\site-packages (from pyttsx3) (223)\n",
      "Requirement already satisfied: pywin32>=223 in c:\\users\\dell\\anaconda3\\lib\\site-packages (from pypiwin32; \"win32\" in sys_platform->pyttsx3) (223)\n"
     ]
    }
   ],
   "source": [
    "!pip install pyttsx3 "
   ]
  },
  {
   "cell_type": "code",
   "execution_count": 197,
   "metadata": {},
   "outputs": [
    {
     "name": "stdout",
     "output_type": "stream",
     "text": [
      "Requirement already satisfied: gtts in c:\\users\\dell\\anaconda3\\lib\\site-packages (2.0.3)\n",
      "Requirement already satisfied: requests in c:\\users\\dell\\anaconda3\\lib\\site-packages (from gtts) (2.22.0)\n",
      "Requirement already satisfied: gtts-token in c:\\users\\dell\\anaconda3\\lib\\site-packages (from gtts) (1.1.3)\n",
      "Requirement already satisfied: click in c:\\users\\dell\\anaconda3\\lib\\site-packages (from gtts) (7.0)\n",
      "Requirement already satisfied: bs4 in c:\\users\\dell\\anaconda3\\lib\\site-packages (from gtts) (0.0.1)\n",
      "Requirement already satisfied: six in c:\\users\\dell\\anaconda3\\lib\\site-packages (from gtts) (1.12.0)\n",
      "Requirement already satisfied: urllib3!=1.25.0,!=1.25.1,<1.26,>=1.21.1 in c:\\users\\dell\\anaconda3\\lib\\site-packages (from requests->gtts) (1.24.2)\n",
      "Requirement already satisfied: certifi>=2017.4.17 in c:\\users\\dell\\anaconda3\\lib\\site-packages (from requests->gtts) (2019.6.16)\n",
      "Requirement already satisfied: idna<2.9,>=2.5 in c:\\users\\dell\\anaconda3\\lib\\site-packages (from requests->gtts) (2.8)\n",
      "Requirement already satisfied: chardet<3.1.0,>=3.0.2 in c:\\users\\dell\\anaconda3\\lib\\site-packages (from requests->gtts) (3.0.4)\n",
      "Requirement already satisfied: beautifulsoup4 in c:\\users\\dell\\anaconda3\\lib\\site-packages (from bs4->gtts) (4.7.1)\n",
      "Requirement already satisfied: soupsieve>=1.2 in c:\\users\\dell\\anaconda3\\lib\\site-packages (from beautifulsoup4->bs4->gtts) (1.8)\n"
     ]
    }
   ],
   "source": [
    "!pip install gtts"
   ]
  },
  {
   "cell_type": "code",
   "execution_count": 198,
   "metadata": {},
   "outputs": [
    {
     "name": "stdout",
     "output_type": "stream",
     "text": [
      "Requirement already satisfied: pyttsx3 in c:\\users\\dell\\anaconda3\\lib\\site-packages (2.71)\n",
      "Requirement already satisfied: pypiwin32; \"win32\" in sys_platform in c:\\users\\dell\\anaconda3\\lib\\site-packages (from pyttsx3) (223)\n",
      "Requirement already satisfied: pywin32>=223 in c:\\users\\dell\\anaconda3\\lib\\site-packages (from pypiwin32; \"win32\" in sys_platform->pyttsx3) (223)\n"
     ]
    }
   ],
   "source": [
    "!pip install pyttsx3"
   ]
  },
  {
   "cell_type": "code",
   "execution_count": 199,
   "metadata": {},
   "outputs": [
    {
     "name": "stdout",
     "output_type": "stream",
     "text": [
      "Requirement already satisfied: SpeechRecognition in c:\\users\\dell\\anaconda3\\lib\\site-packages (3.8.1)\n"
     ]
    }
   ],
   "source": [
    "!pip install SpeechRecognition"
   ]
  },
  {
   "cell_type": "code",
   "execution_count": 200,
   "metadata": {},
   "outputs": [],
   "source": [
    "text=\"\"\"i am suffering from heart pain.About 610,000 people die of heart disease in the United States every year–that’s 1 in every 4 deaths.1Heart disease is the leading cause of death for both men and women. More than half of the deaths due to heart disease in 2009 were in men.1Coronary heart disease (CHD) is the most common type of heart disease, killing over 370,000 people annually.1Every year about 735,000 Americans have a heart attack. Of these, 525,000 are a first heart attack and 210,000 happen in people who have already had a heart attack.2Heart disease is a term covering any disorder of the heart.Unlike cardiovascular disease, which describes problems with the blood vessels and circulatory system as well as the heart, heart disease refers to issues and deformities in the heart itself.According to the Centers for Disease Control (CDC), heart disease is the leading cause of death in the United Kingdom, United States, Canada, and Australia. One in every four deaths in the U.S. occurs as a result of heart disease.Fast facts on heart disease One in every four deaths in the U.S. is related to heart disease.Coronary heart disease, arrhythmia, and myocardial infarction are some examples of heart disease.\n",
    "Heart disease might be treated with medication or surgery.Quitting smoking and exercising regularly can help prevent heart disease.Types There are many different types of heart disease.There are many different types of heart disease.There are many types of heart disease that affect different parts of the organ and occur in different ways.\n",
    "\n",
    "Congenital heart disease\n",
    "\n",
    "This is a general term for some deformities of the heart that have been present since birth. Examples include:\n",
    "\n",
    "Septal defects: There is a hole between the two chambers of the heart.\n",
    "Obstruction defects: The flow of blood through various chambers of the heart is partially or totally blocked.\n",
    "Cyanotic heart disease: A defect in the heart causes a shortage of oxygen around the body.\n",
    "Arrhythmia\n",
    "\n",
    "Arrhythmia is an irregular heartbeat.\n",
    "\n",
    "There are several ways in which a heartbeat can lose its regular rhythm. These include:\n",
    "\n",
    "tachycardia, when the heart beats too fast\n",
    "bradycardia, when the heart beats too slowly\n",
    "premature ventricular contractions, or additional, abnormal beats\n",
    "fibrillation, when the heartbeat is irregular\n",
    "Arrhythmias occur when the electrical impulses in the heart that coordinate the heartbeat do not work properly. These make the heart beat in a way it should not, whether that be too fast, too slowly, or too erratically.\n",
    "\n",
    "Irregular heartbeats are common, and all people experience them. They feel like a fluttering or a racing heart. However, when they change too much or occur because of a damaged or weak heart, they need to be taken more seriously and treated.\n",
    "\n",
    "Arrhythmias can become fatal.\n",
    "\n",
    "Coronary artery disease\n",
    "\n",
    "The coronary arteries supply the heart muscle with nutrients and oxygen by circulating blood.\n",
    "\n",
    "Coronary arteries can become diseased or damaged, usually because of plaque deposits that contain cholesterol. Plaque buildup narrows the coronary arteries, and this causes the heart to receive less oxygen and nutrients.\n",
    "\n",
    "Dilated cardiomyopathy\n",
    "\n",
    "The heart chambers become dilated as a result of heart muscle weakness and cannot pump blood properly. The most common reason is that not enough oxygen reaches the heart muscle, due to coronary artery disease. This usually affects the left ventricle.\n",
    "\n",
    "Myocardial infarction\n",
    "\n",
    "This is also known as a heart attack, cardiac infarction, and coronary thrombosis. An interrupted blood flow damages or destroys part of the heart muscle. This is usually caused by a blood clot that develops in one of the coronary arteries and can also occur if an artery suddenly narrows or spasms.\n",
    "\n",
    "Heart failure\n",
    "\n",
    "Also known as congestive heart failure, heart failure occurs when the heart does not pump blood around the body efficiently.\n",
    "\n",
    "The left or right side of the heart might be affected. Rarely, both sides are. Coronary artery disease or high blood pressure can, over time, leave the heart too stiff or weak to fill and pump properly.\n",
    "\n",
    "Hypertrophic cardiomyopathy\n",
    "\n",
    "This is a genetic disorder in which the wall of the left ventricle thickens, making it harder for blood to be pumped out of the heart. This is the leading cause of sudden death in athletes. A parent with hypertrophic cardiomyopathy has a 50 percent chance of passing the disorder on to their children.\n",
    "\n",
    "Mitral regurgitation\n",
    "\n",
    "Also known as mitral valve regurgitation, mitral insufficiency, or mitral incompetence, this occurs when the mitral valve in the heart does not close tightly enough. This allows blood to flow back into the heart when it should leave. As a result, blood cannot move through the heart or the body efficiently.\n",
    "\n",
    "People with this type of heart condition often feel tired and out of breath.\n",
    "\n",
    "Mitral valve prolapse\n",
    "\n",
    "The valve between the left atrium and left ventricle does not fully close, it bulges upwards, or back into the atrium. In most people, the condition is not life-threatening, and no treatment is required. Some people, especially if the condition is marked by mitral regurgitation, may require treatment.\n",
    "\n",
    "Pulmonary stenosis\n",
    "\n",
    "It becomes hard for the heart to pump blood from the right ventricle into the pulmonary artery because the pulmonary valve is too tight. The right ventricle has to work harder to overcome the obstruction. An infant with severe stenosis can turn blue. Older children will generally have no symptoms.\n",
    "\n",
    "Treatment is needed if the pressure in the right ventricle is too high, and a balloon valvuloplasty or open-heart surgery may be performed to clear an obstruction.\n",
    "\n",
    "Symptoms\n",
    "The symptoms of heart disease depend on which condition is affecting an individual.\n",
    "\n",
    "However, common symptoms include chest pain, breathlessness, and heart palpitations. The chest pain common to many types of heart disease is known as angina, or angina pectoris, and occurs when a part of the heart does not receive enough oxygen.\n",
    "\n",
    "Angina can be triggered by stressful events or physical exertion and normally lasts under 10 minutes.\n",
    "\n",
    "Heart attacks can also occur as a result of different types of heart disease. The signs of a heart attack are similar to angina except that they can occur during rest and tend to be more severe.\n",
    "\n",
    "The symptoms of a heart attack can sometimes resemble indigestion. Heartburn and a stomach ache can occur, as well as a heavy feeling in the chest.\n",
    "\n",
    "Other symptoms of a heart attack include:\n",
    "\n",
    "pain that travels through the body, for example from the chest to the arms, neck, back, abdomen, or jaw\n",
    "lightheadedness and dizzy sensations\n",
    "profuse sweating\n",
    "nausea and vomiting\n",
    "Heart failure is also an outcome of heart disease, and breathlessness can occur when the heart becomes too weak to circulate blood.\n",
    "\n",
    "Some heart conditions occur with no symptoms at all, especially in older adults and individuals with diabetes.\n",
    "\n",
    "The term 'congenital heart disease' covers a range of conditions, but the general symptoms include:\n",
    "\n",
    "sweating\n",
    "high levels of fatigue\n",
    "fast heartbeat and breathing\n",
    "breathlessness\n",
    "chest pain\n",
    "a blue tint to the skin\n",
    "clubbed fingernails\n",
    "In severe cases, symptoms can occur from birth. However, these symptoms might not develop until a person is older than 13 years.\n",
    "\n",
    "Causes\n",
    "Heart disease is caused by damage to all or part of the heart, damage to the coronary arteries, or a poor supply of nutrients and oxygen to the organ.\n",
    "\n",
    "Some types of heart disease, such as hypertrophic cardiomyopathy, are genetic. These, alongside congenital heart defects, can occur before a person is born.\n",
    "\n",
    "There are a number of lifestyle choices that can increase the risk of heart disease. These include:\n",
    "\n",
    "high blood pressure and cholesterol\n",
    "smoking\n",
    "overweight and obesity\n",
    "diabetes\n",
    "family history\n",
    "a diet of junk food\n",
    "age\n",
    "a history of preeclampsia during pregnancy\n",
    "staying in a stationary position for extended periods of time, such as sitting at work\n",
    "Having any of these risk factors greatly increases the risk of heart disease. Some, such as age, are unavoidable. For example, once a woman reaches 55 years of age, heart disease becomes more likely.\n",
    "\n",
    "Treatment\n",
    "There are two main lines of treatment for heart disease. Initially, a person can attempt to treat the heart condition using medications. If these do not have the desired effect, surgical options are available to help correct the issue.\n",
    "\n",
    "Medication\n",
    "A very wide range of medication is available for the majority of heart conditions. Many are prescribed to prevent blood clots, but some serve other purposes.\n",
    "\n",
    "The main medications in use are:\n",
    "\n",
    "statins, for lowering cholesterol\n",
    "blood thinners, such as warfarin, for preventing blood clots\n",
    "beta-blockers, for treating heart attack, heart failure, and high blood pressure\n",
    "angiotensin-converting enzyme (ACE) inhibitors, for heart failure and high blood pressure\n",
    "Your doctor will work with you to find a medication that is safe and effective. They will also use medications to treat underlying conditions that can affect the heart, such as diabetes before they become problematic.\n",
    "\n",
    "Surgery\n",
    "Surgeons doing surgery\n",
    "Heart surgery is an option for people with heart disease, but it can be debilitating.\n",
    "Heart surgery is an intensive option from which it can take a long time to recover.\n",
    "\n",
    "However, they can be effective in treating blockages and heart problems for which medications may not be effective, especially in the advanced stages of heart disease.\n",
    "\n",
    "The most common surgeries include:\n",
    "\n",
    "angioplasty, in which a balloon catheter is inserted to widen narrowed blood vessels that might be restricting blood flow to the heart\n",
    "coronary artery bypass surgery, which allows blood flow to reach a blocked part of the heart in people with blocked arteries\n",
    "surgery to repair or replace faulty heart valves\n",
    "pacemakers, or electronic machines that regulate a heartbeat for people with arrhythmia\n",
    "Heart transplants are another option. However, it is often difficult to find a suitable heart of the right size and blood type in the required time. People are put on a waiting list for donor organs and can sometimes wait years.\n",
    "\n",
    "Prevention\n",
    "Some types of heart disease, such as those that are present from birth, cannot be prevented.\n",
    "\n",
    "Other types, however, can be prevented by taking the following measures:\n",
    "\n",
    "Eat a balanced diet. Stick to low-fat, high-fiber foods and be sure to consume five portions of fresh fruit and vegetables each day. Increase your intake of whole grains and reduce the amount of salt and sugar in the diet. Make sure the fats in the diet are mostly unsaturated.\n",
    "Exercise regularly. This will strengthen the heart and circulatory system, reduce cholesterol, and maintain blood pressure.\n",
    "Maintain a healthy body weight for your height. Click here to calculate your current and target body mass index (BMI).\n",
    "If you smoke, quit. Smoking is a major risk factor for heart and cardiovascular conditions.\n",
    "Reduce the intake of alcohol. Do not drink more than 14 units per week.\n",
    "Control conditions that affect heart health as a complication, such as high blood pressure or diabetes.\n",
    "While these steps do not completely eliminate the risk of heart disease, they can help improve overall health and greatly reduce the chances of heart complications.\n",
    "\n",
    "Statistics\n",
    "Exercising man\n",
    "Exercise is one easy way to keep heart disease at bay.\n",
    "Heart disease is the most common cause of death for both sexes. Here are some statistics demonstrating the scale of heart disease in the U.S.\n",
    "\n",
    "Heart disease causes the deaths of around 630,000 people in the U.S. each year.\n",
    "In the U.S., a person has a heart attack every 40 seconds, and at least one person dies per minute from an event related to heart problems.\n",
    "The health burden placed by heart disease on the U.S. economy is around $200 billion.\n",
    "The most common type of heart disease is coronary heart disease.\n",
    "Mississippi is the state with the highest rate of death from heart disease at 233.1 deaths per 100,000 members of the population. The state is closely followed by Oklahoma, Arkansas, Alabama, and Louisiana. Minnesota, Hawaii, and Colorado have the lowest rates.\n",
    "News\n",
    "Advances are being made every day in the research and treatment of heart disease.\n",
    "\n",
    "A recent study, to be presented at 2018's annual Radiological Society of North America meeting, has shown that fat distribution across the body increases the risk of heart disease and other cardiometabolic conditions in women.\n",
    "\n",
    "The 69th Annual Conference of the Cardiological Society of India recently saw the presentation of findings that showed the risk of heart disease increase by 500 percent with baldness and gray hair in men.\n",
    "\n",
    "Smoking just one cigarette each day can increase the risk of heart disease, according to a new study in the BMJ. The research suggests that cutting out cigarettes completely is the only way to reduce this risk, as opposed to simply cutting down the number of cigarettes.\n",
    "\n",
    "In other news, a study in the New England Journal of Medicine has linked flu to heart attacks in groups of people who are at risk of heart disease.\n",
    "\n",
    "A new study also suggests that restless leg syndrome (RLS) may also increase the risk of death from heart-related conditions, especially in older women.\n",
    "\n",
    "To keep up with the developments on heart disease, click here for all the latest news and research\n",
    "Heart disease is one of the leading health risks facing men today. According to the American Heart Association (AHA), more than one in three adult men has heart disease. Heart disease is an umbrella term that includes:\n",
    "\n",
    "heart failure\n",
    "coronary artery disease\n",
    "arrhythmias\n",
    "angina\n",
    "other heart-related infections, irregularities, and birth defects\n",
    "Although it may seem that something so serious should have warning signs, it’s possible to develop heart disease without knowing it as you go about your daily life. Know the early signs of heart disease — as well as risk factors — so you can get treatment early and prevent more serious health problems.\n",
    "\n",
    "Risk factors for heart disease\n",
    "Many men are at high risk of developing heart disease. The AHA reported in 2013 that only a quarter of men met federal guidelines for physical activity in 2011. They also estimated that 72.9 percent of U.S. men age 20 and older are overweight or obese. And about 20 percent of men smoke, which can cause the blood vessels to narrow. Narrowed blood vessels are a precursor to certain types of heart disease.\n",
    "\n",
    "Other risk factors include:\n",
    "\n",
    "a diet high in saturated fat\n",
    "alcohol abuse or excessive drinking\n",
    "high cholesterol\n",
    "diabetes\n",
    "hypertension (high blood pressure)\n",
    "According to the Centers for Disease Control and Prevention (CDC)Trusted Source, nearly half of all Americans — both men and women — have three or more risk factors for heart disease.\n",
    "\n",
    "Early signs of heart disease\n",
    "The first sign of heart disease is often a heart attack or other serious event. But, there are a few important signs that can help you recognize problems before they come to a head.\n",
    "\n",
    "In the early stages, symptoms that seem like mere annoyances may come and go. For example, you may have heart arrhythmias, which can cause:\n",
    "\n",
    "difficulty catching your breath after moderate physical exertion, like walking up a flight of stairs\n",
    "a sense of discomfort or squeezing in your chest that lasts for 30 minutes to a few hours\n",
    "unexplained pain in your upper torso, neck, and jaw\n",
    "a heartbeat that is faster, slower, or more irregular than usual\n",
    "dizziness or fainting\n",
    "Heart disease that involves your blood vessels is often signaled by:\n",
    "\n",
    "angina (chest pain)\n",
    "shortness of breath\n",
    "changes in your extremities, such as pain, swelling, tingling, numbness, coldness, and weakness\n",
    "extreme fatigue\n",
    "irregular heartbeat\n",
    "These symptoms can be signs that your blood vessels have narrowed. This narrowing, which can be caused by plaque buildup, makes it more difficult for your heart to circulate oxygenated blood throughout your body.\n",
    "\n",
    "In addition to the above symptoms, heart disease caused by an infection of the heart can include dry cough, fever, and skin rashes.\n",
    "\n",
    "A cluster of risk factors may also signal impending heart disease. For example, your risk of heart disease significantly increases if you have diabetes and high blood pressure.\n",
    "\n",
    "Common signs of heart attack and stroke\n",
    "A heart attack occurs when heart disease has reached the point where blood stops flowing to the muscle of the heart. The most common sign of heart attack in men is chest discomfort that includes squeezing, pressure, or pain. It used to be thought that only chest pain was a sign of heart attack, but it’s possible to have discomfort that doesn’t register as painful. This discomfort may also be present in your arms, back, neck, abdomen, or jaw.\n",
    "\n",
    "During a heart attack, you may have:\n",
    "\n",
    "shortness of breath\n",
    "profuse sweating for no apparent reason\n",
    "nausea\n",
    "lightheadedness\n",
    "Symptoms of a stroke include numbness or weakness that only happens on one side of your body. The numbness may occur in your face, arms, or legs. Other symptoms of stroke include:\n",
    "\n",
    "confusion, difficulty speaking, or trouble comprehending others\n",
    "imbalance or loss of coordination\n",
    "changes in vision\n",
    "intense headache\n",
    "Heart attack symptoms for women\n",
    "The most common heart attack symptom in women is some type of pain, pressure or discomfort in the chest. But it is not always severe or even the most prominent symptom, particularly in women. And, sometimes, women may have a heart attack without chest pain. Women are more likely than men to have heart attack symptoms unrelated to chest pain, such as:\n",
    "\n",
    "Neck, jaw, shoulder, upper back or abdominal discomfort\n",
    "Shortness of breath\n",
    "Pain in one or both arms\n",
    "Nausea or vomiting\n",
    "Sweating\n",
    "Lightheadedness or dizziness\n",
    "Unusual fatigue\n",
    "These symptoms can be more subtle than the obvious crushing chest pain often associated with heart attacks. Women may describe chest pain as pressure or a tightness. This may be because women tend to have blockages not only in their main arteries but also in the smaller arteries that supply blood to the heart — a condition called small vessel heart disease or coronary microvascular disease.\n",
    "\n",
    "Women's symptoms may occur more often when women are resting, or even when they're asleep. Mental stress also may trigger heart attack symptoms in women.\n",
    "\n",
    "Women tend to show up in emergency rooms after heart damage has already occurred because their symptoms are not those usually associated with a heart attack, and because women may downplay their symptoms. If you experience these symptoms or think you're having a heart attack, call for emergency medical help immediately. Don't drive yourself to the emergency room unless you have no other options.\n",
    "\n",
    "Heart disease risk factors for women\n",
    "Although several traditional risk factors for coronary artery disease — such as high cholesterol, high blood pressure and obesity — affect women and men, other factors may play a bigger role in the development of heart disease in women. For example, risk factors may include:\n",
    "\n",
    "Diabetes. Women with diabetes are at greater risk of heart disease than are men with diabetes.\n",
    "Mental stress and depression. Women's hearts are affected by stress and depression more than men's. Depression makes it difficult to maintain a healthy lifestyle and follow recommended treatment, so talk to your doctor if you're having symptoms of depression.\n",
    "Smoking. In women, smoking is a greater risk factor for heart disease in women than it is in men.\n",
    "Inactivity. A lack of physical activity is a major risk factor for heart disease, and some research has found women to be more inactive than men.\n",
    "Menopause. Low levels of estrogen after menopause pose a significant risk factor for developing cardiovascular disease in the smaller blood vessels (coronary microvascular disease).\n",
    "Broken heart syndrome. This condition — often brought on by stressful situations that can cause severe, but usually temporary, heart muscle failure — occurs more commonly in women after menopause. This condition may also be called takotsubo cardiomyopathy, apical ballooning syndrome or stress cardiomyopathy.\n",
    "Certain chemotherapy drugs and radiation therapy for cancer. Some chemotherapy drugs and radiation therapies, such as those used to treat breast cancer, may increase the risk of cardiovascular disease.\n",
    "Pregnancy complications. High blood pressure or diabetes during pregnancy can increase women's long-term risk of high blood pressure and diabetes and increase the risk of development of heart disease in the mothers.\n",
    "\n",
    "Some research has found that if you had pregnancy complications such as high blood pressure or diabetes your children may also have an increased risk of heart disease in the future.\n",
    "\n",
    "Women with inflammatory diseases, such as rheumatoid arthritis or lupus, may also have a higher risk of heart disease. Research is ongoing in other heart disease risk factors in women.\n",
    "\n",
    "Is heart disease something only older women should worry about?\n",
    "No. Women of all ages should take heart disease seriously. Women under the age of 65, and especially those with a family history of heart disease, need to pay close attention to heart disease risk factors.\n",
    "\n",
    "What can women do to reduce their risk of heart disease?\n",
    "Women can make several lifestyle changes to reduce the risk of heart disease, including:\n",
    "\n",
    "Quit or don't start smoking.\n",
    "Exercise regularly.\n",
    "Maintain a healthy weight.\n",
    "Eat a healthy diet that includes whole grains, a variety of fruits and vegetables, low-fat or fat-free dairy products, and lean meats. Avoid saturated or trans fat, added sugars, and high amounts of salt.\n",
    "Women also need to take prescribed medications appropriately, such as blood pressure medications, blood thinners and aspirin. And they'll need to better manage other conditions that are risk factors for heart disease, such as high blood pressure, high cholesterol and diabetes.\n",
    "\n",
    "Exercise to reduce the risk of heart disease in women\n",
    "In general, everybody should do moderate exercise, such as walking at a brisk pace, on most days of the week. The Department of Health and Human Services recommends 150 minutes a week of moderate aerobic activity, 75 minutes of vigorous aerobic activity a week, or a combination of moderate and vigorous activity. That's about 30 minutes a day, five days a week.\n",
    "\n",
    "For even more health benefits, aim for 300 minutes of moderate aerobic activity or 150 minutes of vigorous aerobic activity a week. That's about 60 minutes a day, five days a week. In addition, aim to do strength training exercises two or more days a week.\n",
    "\n",
    "If you can't get all of your exercise completed in one session, try breaking up your physical activity into several 10-minute sessions during a day. You'll still get the same heart-health benefits.\n",
    "\n",
    "Interval training — in which you alternate short bursts of intense activity with intervals of lighter activity — is another exercise alternative you might try. For example, you could incorporate short bursts of jogging or fast walking into your regular walks. Interval training may help you burn more calories than continuous exercise, and it can help you maintain a healthy weight and keep your heart healthy.\n",
    "\n",
    "You can make other small changes to increase your physical activity throughout the day. For example, try taking the stairs instead of the elevator, walking or riding your bicycle to work or to do errands, or doing situps or pushups while watching television.\n",
    "Heart disease is a term covering any disorder of the heart.\n",
    "Unlike cardiovascular disease, which describes problems with the blood vessels and circulatory system as well as the heart, heart disease refers to issues and deformities in the heart itself.\n",
    "\n",
    "According to the Centers for Disease Control (CDC), heart disease is the leading cause of death in the United Kingdom, United States, Canada, and Australia. One in every four deaths in the U.S. occurs as a result of heart disease.\n",
    "\n",
    "Fast facts on heart disease\n",
    "One in every four deaths in the U.S. is related to heart disease.\n",
    "Coronary heart disease, arrhythmia, and myocardial infarction are some examples of heart disease.\n",
    "Heart disease might be treated with medication or surgery.\n",
    "Quitting smoking and exercising regularly can help prevent heart disease.\n",
    "Types\n",
    "There are many different types of heart disease.\n",
    "There are many different types of heart disease.\n",
    "There are many types of heart disease that affect different parts of the organ and occur in different ways.\n",
    "\n",
    "Congenital heart disease\n",
    "\n",
    "This is a general term for some deformities of the heart that have been present since birth. Examples include:\n",
    "\n",
    "Septal defects: There is a hole between the two chambers of the heart.\n",
    "Obstruction defects: The flow of blood through various chambers of the heart is partially or totally blocked.\n",
    "Cyanotic heart disease: A defect in the heart causes a shortage of oxygen around the body.\n",
    "Arrhythmia\n",
    "\n",
    "Arrhythmia is an irregular heartbeat.\n",
    "\n",
    "There are several ways in which a heartbeat can lose its regular rhythm. These include:\n",
    "\n",
    "tachycardia, when the heart beats too fast\n",
    "bradycardia, when the heart beats too slowly\n",
    "premature ventricular contractions, or additional, abnormal beats\n",
    "fibrillation, when the heartbeat is irregular\n",
    "Arrhythmias occur when the electrical impulses in the heart that coordinate the heartbeat do not work properly. These make the heart beat in a way it should not, whether that be too fast, too slowly, or too erratically.\n",
    "\n",
    "Irregular heartbeats are common, and all people experience them. They feel like a fluttering or a racing heart. However, when they change too much or occur because of a damaged or weak heart, they need to be taken more seriously and treated.\n",
    "\n",
    "Arrhythmias can become fatal.\n",
    "\n",
    "Coronary artery disease\n",
    "\n",
    "The coronary arteries supply the heart muscle with nutrients and oxygen by circulating blood.\n",
    "\n",
    "Coronary arteries can become diseased or damaged, usually because of plaque deposits that contain cholesterol. Plaque buildup narrows the coronary arteries, and this causes the heart to receive less oxygen and nutrients.\n",
    "\n",
    "Dilated cardiomyopathy\n",
    "\n",
    "The heart chambers become dilated as a result of heart muscle weakness and cannot pump blood properly. The most common reason is that not enough oxygen reaches the heart muscle, due to coronary artery disease. This usually affects the left ventricle.\n",
    "\n",
    "Myocardial infarction\n",
    "\n",
    "This is also known as a heart attack, cardiac infarction, and coronary thrombosis. An interrupted blood flow damages or destroys part of the heart muscle. This is usually caused by a blood clot that develops in one of the coronary arteries and can also occur if an artery suddenly narrows or spasms.\n",
    "\n",
    "Heart failure\n",
    "\n",
    "Also known as congestive heart failure, heart failure occurs when the heart does not pump blood around the body efficiently.\n",
    "\n",
    "The left or right side of the heart might be affected. Rarely, both sides are. Coronary artery disease or high blood pressure can, over time, leave the heart too stiff or weak to fill and pump properly.\n",
    "\n",
    "Hypertrophic cardiomyopathy\n",
    "\n",
    "This is a genetic disorder in which the wall of the left ventricle thickens, making it harder for blood to be pumped out of the heart. This is the leading cause of sudden death in athletes. A parent with hypertrophic cardiomyopathy has a 50 percent chance of passing the disorder on to their children.\n",
    "\n",
    "Mitral regurgitation\n",
    "\n",
    "Also known as mitral valve regurgitation, mitral insufficiency, or mitral incompetence, this occurs when the mitral valve in the heart does not close tightly enough. This allows blood to flow back into the heart when it should leave. As a result, blood cannot move through the heart or the body efficiently.\n",
    "\n",
    "People with this type of heart condition often feel tired and out of breath.\n",
    "\n",
    "Mitral valve prolapse\n",
    "\n",
    "The valve between the left atrium and left ventricle does not fully close, it bulges upwards, or back into the atrium. In most people, the condition is not life-threatening, and no treatment is required. Some people, especially if the condition is marked by mitral regurgitation, may require treatment.\n",
    "\n",
    "Pulmonary stenosis\n",
    "\n",
    "It becomes hard for the heart to pump blood from the right ventricle into the pulmonary artery because the pulmonary valve is too tight. The right ventricle has to work harder to overcome the obstruction. An infant with severe stenosis can turn blue. Older children will generally have no symptoms.\n",
    "\n",
    "Treatment is needed if the pressure in the right ventricle is too high, and a balloon valvuloplasty or open-heart surgery may be performed to clear an obstruction.\n",
    "\n",
    "Symptoms\n",
    "The symptoms of heart disease depend on which condition is affecting an individual.\n",
    "\n",
    "However, common symptoms include chest pain, breathlessness, and heart palpitations. The chest pain common to many types of heart disease is known as angina, or angina pectoris, and occurs when a part of the heart does not receive enough oxygen.\n",
    "\n",
    "Angina can be triggered by stressful events or physical exertion and normally lasts under 10 minutes.\n",
    "\n",
    "Heart attacks can also occur as a result of different types of heart disease. The signs of a heart attack are similar to angina except that they can occur during rest and tend to be more severe.\n",
    "\n",
    "The symptoms of a heart attack can sometimes resemble indigestion. Heartburn and a stomach ache can occur, as well as a heavy feeling in the chest.\n",
    "\n",
    "Other symptoms of a heart attack include:\n",
    "\n",
    "pain that travels through the body, for example from the chest to the arms, neck, back, abdomen, or jaw\n",
    "lightheadedness and dizzy sensations\n",
    "profuse sweating\n",
    "nausea and vomiting\n",
    "Heart failure is also an outcome of heart disease, and breathlessness can occur when the heart becomes too weak to circulate blood.\n",
    "\n",
    "Some heart conditions occur with no symptoms at all, especially in older adults and individuals with diabetes.\n",
    "\n",
    "The term 'congenital heart disease' covers a range of conditions, but the general symptoms include:\n",
    "\n",
    "sweating\n",
    "high levels of fatigue\n",
    "fast heartbeat and breathing\n",
    "breathlessness\n",
    "chest pain\n",
    "a blue tint to the skin\n",
    "clubbed fingernails\n",
    "In severe cases, symptoms can occur from birth. However, these symptoms might not develop until a person is older than 13 years.\n",
    "\n",
    "Causes\n",
    "Heart disease is caused by damage to all or part of the heart, damage to the coronary arteries, or a poor supply of nutrients and oxygen to the organ.\n",
    "\n",
    "Some types of heart disease, such as hypertrophic cardiomyopathy, are genetic. These, alongside congenital heart defects, can occur before a person is born.\n",
    "\n",
    "There are a number of lifestyle choices that can increase the risk of heart disease. These include:\n",
    "\n",
    "high blood pressure and cholesterol\n",
    "smoking\n",
    "overweight and obesity\n",
    "diabetes\n",
    "family history\n",
    "a diet of junk food\n",
    "age\n",
    "a history of preeclampsia during pregnancy\n",
    "staying in a stationary position for extended periods of time, such as sitting at work\n",
    "Having any of these risk factors greatly increases the risk of heart disease. Some, such as age, are unavoidable. For example, once a woman reaches 55 years of age, heart disease becomes more likely.\n",
    "\n",
    "Treatment\n",
    "There are two main lines of treatment for heart disease. Initially, a person can attempt to treat the heart condition using medications. If these do not have the desired effect, surgical options are available to help correct the issue.\n",
    "\n",
    "Medication\n",
    "A very wide range of medication is available for the majority of heart conditions. Many are prescribed to prevent blood clots, but some serve other purposes.\n",
    "\n",
    "The main medications in use are:\n",
    "\n",
    "statins, for lowering cholesterol\n",
    "blood thinners, such as warfarin, for preventing blood clots\n",
    "beta-blockers, for treating heart attack, heart failure, and high blood pressure\n",
    "angiotensin-converting enzyme (ACE) inhibitors, for heart failure and high blood pressure\n",
    "Your doctor will work with you to find a medication that is safe and effective. They will also use medications to treat underlying conditions that can affect the heart, such as diabetes before they become problematic.\n",
    "\n",
    "Surgery\n",
    "Surgeons doing surgery\n",
    "Heart surgery is an option for people with heart disease, but it can be debilitating.\n",
    "Heart surgery is an intensive option from which it can take a long time to recover.\n",
    "\n",
    "However, they can be effective in treating blockages and heart problems for which medications may not be effective, especially in the advanced stages of heart disease.\n",
    "\n",
    "The most common surgeries include:\n",
    "\n",
    "angioplasty, in which a balloon catheter is inserted to widen narrowed blood vessels that might be restricting blood flow to the heart\n",
    "coronary artery bypass surgery, which allows blood flow to reach a blocked part of the heart in people with blocked arteries\n",
    "surgery to repair or replace faulty heart valves\n",
    "pacemakers, or electronic machines that regulate a heartbeat for people with arrhythmia\n",
    "Heart transplants are another option. However, it is often difficult to find a suitable heart of the right size and blood type in the required time. People are put on a waiting list for donor organs and can sometimes wait years.\n",
    "\n",
    "Prevention\n",
    "Some types of heart disease, such as those that are present from birth, cannot be prevented.\n",
    "\n",
    "Other types, however, can be prevented by taking the following measures:\n",
    "\n",
    "Eat a balanced diet. Stick to low-fat, high-fiber foods and be sure to consume five portions of fresh fruit and vegetables each day. Increase your intake of whole grains and reduce the amount of salt and sugar in the diet. Make sure the fats in the diet are mostly unsaturated.\n",
    "Exercise regularly. This will strengthen the heart and circulatory system, reduce cholesterol, and maintain blood pressure.\n",
    "Maintain a healthy body weight for your height. Click here to calculate your current and target body mass index (BMI).\n",
    "If you smoke, quit. Smoking is a major risk factor for heart and cardiovascular conditions.\n",
    "Reduce the intake of alcohol. Do not drink more than 14 units per week.\n",
    "Control conditions that affect heart health as a complication, such as high blood pressure or diabetes.\n",
    "While these steps do not completely eliminate the risk of heart disease, they can help improve overall health and greatly reduce the chances of heart complications.\n",
    "\n",
    "Statistics\n",
    "Exercising man\n",
    "Exercise is one easy way to keep heart disease at bay.\n",
    "Heart disease is the most common cause of death for both sexes. Here are some statistics demonstrating the scale of heart disease in the U.S.\n",
    "\n",
    "Heart disease causes the deaths of around 630,000 people in the U.S. each year.\n",
    "In the U.S., a person has a heart attack every 40 seconds, and at least one person dies per minute from an event related to heart problems.\n",
    "The health burden placed by heart disease on the U.S. economy is around $200 billion.\n",
    "The most common type of heart disease is coronary heart disease.\n",
    "Mississippi is the state with the highest rate of death from heart disease at 233.1 deaths per 100,000 members of the population. The state is closely followed by Oklahoma, Arkansas, Alabama, and Louisiana. Minnesota, Hawaii, and Colorado have the lowest rates.\"\"\"\n",
    "\n"
   ]
  },
  {
   "cell_type": "markdown",
   "metadata": {},
   "source": [
    "Use of Natural Language Processing"
   ]
  },
  {
   "cell_type": "code",
   "execution_count": 201,
   "metadata": {},
   "outputs": [],
   "source": [
    "from gensim.summarization import summarize\n",
    "from gensim.summarization import keywords"
   ]
  },
  {
   "cell_type": "code",
   "execution_count": 202,
   "metadata": {},
   "outputs": [],
   "source": [
    "from nltk.tokenize import sent_tokenize, word_tokenize\n",
    "a=keywords(text)\n",
    "tokens=word_tokenize(a)"
   ]
  },
  {
   "cell_type": "markdown",
   "metadata": {},
   "source": [
    "Speech Reconignition "
   ]
  },
  {
   "cell_type": "code",
   "execution_count": 203,
   "metadata": {},
   "outputs": [],
   "source": [
    "import pyttsx3\n",
    "import speech_recognition\n",
    "import pyautogui"
   ]
  },
  {
   "cell_type": "code",
   "execution_count": 204,
   "metadata": {},
   "outputs": [],
   "source": [
    "speech_engine = pyttsx3.init('sapi5') # see http://pyttsx.readthedocs.org/en/latest/engine.html#pyttsx.init\n",
    "speech_engine.setProperty('rate', 115)\n",
    " \n",
    "def speak(text):\n",
    "    speech_engine.say(text)\n",
    "    speech_engine.runAndWait()\n",
    "\n",
    "recognizer = speech_recognition.Recognizer()\n",
    " \n",
    "def listen():\n",
    "    with speech_recognition.Microphone() as source:\n",
    "        recognizer.adjust_for_ambient_noise(source)\n",
    "        audio = recognizer.listen(source)\n",
    "        \n",
    "    try:\n",
    "        #return recognizer.recognize_sphinx(audio)\n",
    "        text=recognizer.recognize_google(audio)\n",
    "        if 'hello' in str(text):\n",
    "            pyautogui.click(358,132)\n",
    "            pyautogui.click(412,291)\n",
    "        #return recognizer.recognize_google(audio)\n",
    "            \n",
    "    except speech_recognition.UnknownValueError:\n",
    "        print(\"could not understand audio\")\n",
    "    except speech_recognition.RequestError as e:\n",
    "        print(\"Recog Error; {0}\".format(e))\n",
    " \n",
    "   # return \"\""
   ]
  },
  {
   "cell_type": "code",
   "execution_count": 205,
   "metadata": {},
   "outputs": [],
   "source": [
    "import datetime\n",
    "from tkinter import *\n",
    "time=datetime.datetime.now()"
   ]
  },
  {
   "cell_type": "markdown",
   "metadata": {},
   "source": [
    "# Final Working Software Model"
   ]
  },
  {
   "cell_type": "code",
   "execution_count": 209,
   "metadata": {
    "scrolled": true
   },
   "outputs": [
    {
     "name": "stdout",
     "output_type": "stream",
     "text": [
      "name:amit\n",
      "Description:pain\n",
      "\n",
      "sex-(Press 1 = male; 0 = female)\n",
      "sex:0\n",
      "2.cp-chest pain type\n",
      "    (press)\n",
      "          0->Angina\n",
      "          1->asymptomatic\n",
      "          2->abnormal\n",
      "          3->Normal\n",
      "cp:1\n",
      "trestbps-resting blood pressure in mm Hg between (94-200)\n",
      "trestbps:118\n",
      "serum cholestoral in mg/dl between (126-564)\n",
      "chol:308\n",
      "resting electrocardiographic results\n",
      "           press:\n",
      "           0->Normal\n",
      "           1->abnormal\n",
      "           2->hyper\n",
      "restecg:0\n",
      "thaclach-maximum heart rate achieved (71-202)\n",
      "thalach:142\n",
      "exang-exercise induced angina \n",
      "           press\n",
      "           1 = yes \n",
      "           0 = no\n",
      "exang:0\n",
      "ST depression induced by exercise relative to rest (0-6.2)\n",
      "oldpeak:0.7\n",
      "slope of the peak exercise ST segment\n",
      "           0->Up, \n",
      "           1->flat\n",
      "           2->down\n",
      "slope:2\n",
      "number of major vessels (0-3) colored by flourosopy\n",
      "ca:2\n",
      "Thal\n",
      "              press\n",
      "              1->Normal\n",
      "              2->Fixed Defect\n",
      "              3->Reversable defect\n",
      "thal:2\n",
      "-----------ABC HEARTIEST MEDICAL----------------\n",
      "------------REPORT---------------\n",
      "Name:Mrs.amit                       Report Generated Time: 2019-11-04 22:34:21.101737\n",
      "Female\n",
      "Chest Pain Type:asymptomatic\n",
      "Resting Blood Pressure in mm Hg: 118\n",
      "Serum cholestoral in mg/dl: 308\n",
      "Resting Electrocardiographic Results:Normal\n",
      "Maximum Heart Rate Achieved: 142\n",
      "Exercise Induced Angina:NO\n",
      "Depression Induced by Exercise Relative to Rest: 0.7\n",
      "Slope of the Peak Exercise ST segment:down\n",
      "number of major vessels (0-3) colored by flourosopy: 2\n",
      "Thal:Reversable Defect\n",
      "There is a high risk of heart disease\n"
     ]
    }
   ],
   "source": [
    "import sqlite3\n",
    "\n",
    "conn = sqlite3.connect('tutorial1.db')\n",
    "c = conn.cursor()\n",
    "\n",
    "def create_table():\n",
    "    c.execute(\"CREATE TABLE IF NOT EXISTS patientdetails(Name varchar,Gender varchar,cp varchar,trestbps number,chol varchar,restecg varchar,thalach varchar,exang varchar,oldpeak number,slope varchar,ca number,thal varchar)\")\n",
    "    conn.commit()\n",
    "    c.close()\n",
    "    conn.close()\n",
    "def thall():\n",
    "    print(\"\"\"Thal\n",
    "              press\n",
    "              1->Normal\n",
    "              2->Fixed Defect\n",
    "              3->Reversable defect\"\"\")\n",
    "    speak(\"1 for normal 2 for fixed defect 3 for reversable defect\")\n",
    "    thal=input(\"thal:\")\n",
    "    thal=int(thal)\n",
    "    if thal==1 or thal==2 or thal==3:\n",
    "        return thal\n",
    "    else:\n",
    "        thall()\n",
    "def caa():\n",
    "    print(\"number of major vessels (0-3) colored by flourosopy\")\n",
    "    speak(\"Number of major vessels (0–3) colored by fluoroscopy\")\n",
    "    ca=input(\"ca:\")\n",
    "    ca=int(ca)\n",
    "    return ca\n",
    "def peak():\n",
    "    print(\"\"\"slope of the peak exercise ST segment\n",
    "           0->Up, \n",
    "           1->flat\n",
    "           2->down\"\"\")\n",
    "    speak(\"the slope of the peak exercise ST segment 0 for Up 1 for flat 2 for down\")\n",
    "    slope=input(\"slope:\")\n",
    "    slope=int(slope)\n",
    "    if slope==0 or slope==1 or slope==2:\n",
    "            return slope\n",
    "    else:\n",
    "        speak(\"invalid choice please try again\")\n",
    "        peak()\n",
    "def st():\n",
    "    print(\"ST depression induced by exercise relative to rest (0-6.2)\")\n",
    "    speak(\"ST depression induced by exercise relative to rest (0-6.2)\")\n",
    "    oldpeak=input(\"oldpeak:\")\n",
    "    oldpeak=float(oldpeak)\n",
    "    return oldpeak\n",
    "def exercise():\n",
    "    print(\"\"\"exang-exercise induced angina \n",
    "           press\n",
    "           1 = yes \n",
    "           0 = no\"\"\")\n",
    "    speak(\"exercise induced angina (1 = yes; 0 = no)\")\n",
    "    exang=input(\"exang:\")\n",
    "    exang=int(exang)\n",
    "    if exang==1 or exang==0:\n",
    "        return exang\n",
    "    else:\n",
    "        exercise()\n",
    "def heartrate():\n",
    "    print(\"thaclach-maximum heart rate achieved (71-202)\")\n",
    "    speak(\"maximum heart rate achieved (71-202)\")\n",
    "    thalach=input(\"thalach:\")\n",
    "    thalach=int(thalach)\n",
    "    return thalach\n",
    "def resting():\n",
    "    print(\"\"\"resting electrocardiographic results\n",
    "           press:\n",
    "           0->Normal\n",
    "           1->abnormal\n",
    "           2->hyper\"\"\")\n",
    "    speak(\"resting electrocardiographic results 0 for Normal 1 for abnormal 2 for hyper\")\n",
    "    restecg=input(\"restecg:\")\n",
    "    restecg=int(restecg)\n",
    "    if restecg==0 or restecg==1 or restecg==2:\n",
    "        return restecg\n",
    "    else:\n",
    "        speak(\"invalid choice please try again\")\n",
    "        resting()\n",
    "def serum():\n",
    "    print(\"serum cholestoral in mg/dl between (126-564)\")\n",
    "    speak(\"serum cholestoral in mg/dl between (126-564)\")\n",
    "    chol=input(\"chol:\")\n",
    "    chol=int(chol)\n",
    "    return chol\n",
    "def trest():\n",
    "    print(\"trestbps-resting blood pressure in mm Hg between (94-200)\")\n",
    "    speak(\"Enter resting blood pressure in mm Hg\")\n",
    "    trestbps=input(\"trestbps:\")\n",
    "    trestbps=int(trestbps)\n",
    "    return trestbps\n",
    "def chest():\n",
    "    print(\"\"\"2.cp-chest pain type\n",
    "    (press)\n",
    "          0->Angina\n",
    "          1->asymptomatic\n",
    "          2->abnormal\n",
    "          3->Normal\"\"\")\n",
    "    speak(\"2.cp-chest pain type press 0 for Angina 1 for asymptomatic 2 for abnormal 3 for Normal\")\n",
    "    speak(\"Enter the type of chest pain\")\n",
    "    cp=input(\"cp:\")\n",
    "    cp=int(cp)\n",
    "    if cp==0 or cp==1 or cp==2 or cp==3:\n",
    "        return cp\n",
    "    else:\n",
    "        speak(\"invalid choice please try again\")\n",
    "        chest() \n",
    "def gender():\n",
    "    print(\"sex-(Press 1 = male; 0 = female)\")\n",
    "    sex=input(\"sex:\")\n",
    "    sex=int(sex)\n",
    "    if sex==1 or sex==0:\n",
    "        return sex\n",
    "    else:\n",
    "        speak(\"invalid choice please try again\")\n",
    "        gender()\n",
    "def predicting():\n",
    "    sex=gender()\n",
    "    cp=chest()\n",
    "    trestbps=trest()\n",
    "    chol=serum()\n",
    "    restecg=resting()\n",
    "    thalach=heartrate()\n",
    "    exang=exercise()\n",
    "    oldpeak=st()\n",
    "    slope=peak()\n",
    "    ca=caa()\n",
    "    thal=thall()\n",
    "    test=[[sex,cp,trestbps,chol,restecg,thalach,exang,oldpeak,slope,ca,thal]]\n",
    "    pred=ensemble.predict(test)\n",
    "    def dynamic_data_entry():\n",
    "        c.execute(\"INSERT INTO patientdetails(Name,Gender,cp,trestbps,chol,restecg,thalach,exang,oldpeak,slope,ca,thal) VALUES (?, ?, ?, ?,?, ?, ?, ?,?, ?, ?, ?)\",\n",
    "                  (name,sex,cp,trestbps,chol,restecg,thalach,exang,oldpeak,slope,ca,thal))\n",
    "        conn.commit()\n",
    "    dynamic_data_entry()\n",
    "    c.close\n",
    "    conn.close()\n",
    "    def display():\n",
    "       \n",
    "        print(\"-----------ABC HEARTIEST MEDICAL----------------\")\n",
    "        print(\"------------REPORT---------------\")\n",
    "        if sex==1:\n",
    "            print(\"Name:Mr.\"+name+\"                      \",\"Report Generated Time:\",time)\n",
    "            print(\"Gender:Male\")\n",
    "        else:\n",
    "            print(\"Name:Mrs.\"+name+\"                      \",\"Report Generated Time:\",time) \n",
    "            print(\"Female\")\n",
    "        if cp==0:\n",
    "            print(\"Chest Pain Type:Angina\")\n",
    "        elif cp==1:\n",
    "            print(\"Chest Pain Type:asymptomatic\")\n",
    "        elif cp==2:\n",
    "            print(\"Chest Pain Type:Abnormal\")\n",
    "        else:\n",
    "            print(\"normal\")\n",
    "        print(\"Resting Blood Pressure in mm Hg:\",trestbps)\n",
    "        print(\"Serum cholestoral in mg/dl:\",chol)\n",
    "        if restecg==0:\n",
    "            print(\"Resting Electrocardiographic Results:Normal\")\n",
    "        elif restecg==1:\n",
    "            print(\"Resting Electrocardiographic Results:Abnormal\")\n",
    "        else:\n",
    "            print(\"Resting Electrocardiographic Results:Hyper\")\n",
    "        print(\"Maximum Heart Rate Achieved:\",thalach)\n",
    "        if exang==1:\n",
    "            print(\"Exercise Induced Angina:YES\")\n",
    "        else:\n",
    "            print(\"Exercise Induced Angina:NO\")\n",
    "        print(\"Depression Induced by Exercise Relative to Rest:\",oldpeak)\n",
    "        if slope==0:\n",
    "            print(\"Slope of the Peak Exercise ST segment:up\")\n",
    "        elif slope==1:\n",
    "            print(\"Slope of the Peak Exercise ST segment:flat\")\n",
    "        else:\n",
    "            print(\"Slope of the Peak Exercise ST segment:down\")\n",
    "        print(\"number of major vessels (0-3) colored by flourosopy:\",ca)\n",
    "        if thal==0:\n",
    "            print(\"Thal:Normal\")\n",
    "        elif(thal==1):\n",
    "            print(\"Thal:Fixed Defect\")\n",
    "        else:\n",
    "            print(\"Thal:Reversable Defect\")\n",
    "        if pred==1:\n",
    "            print(\"There is a high risk of heart disease\")\n",
    "        else:\n",
    "            print(\"No heart disease detected\")\n",
    "       \n",
    "        \n",
    "    if(pred==1):\n",
    "        speak(\"There is a high risk of heart disease\")\n",
    "        speak(\"Require immediate treatment\")\n",
    "        speak(\"thank you Have a nice day\")\n",
    "        def text():\n",
    "            label = Label(root,text=display())\n",
    "            label.pack() \n",
    "        root = Tk()\n",
    "        button = Button(root, text=\"Print Me\", command=text) \n",
    "        button.pack()\n",
    "        root.mainloop()\n",
    "        \n",
    "       \n",
    "    else:\n",
    "        speak(\"No heart Disease Detected\")\n",
    "        speak(str(per))\n",
    "        speak(\"thank you Have a nice day\")\n",
    "        def text():\n",
    "            label = Label(root,text=display())\n",
    "            label.pack() \n",
    "        root = Tk()\n",
    "        button = Button(root, text=\"Print Me\", command=text) \n",
    "        button.pack()\n",
    "        root.mainloop()\n",
    "speak(\"Hii\")\n",
    "speak(\"Please enter the patient name\")\n",
    "name=input(\"name:\")\n",
    "speak(\"please describe in below description\")\n",
    "w=input(\"Description:\")\n",
    "w=w.lower()\n",
    "if any(word in w for word in tokens):\n",
    "    speak(\"Please enter the following tests report\")\n",
    "    speak(\"press any key for continue\")\n",
    "    z=input(\"\")\n",
    "    predicting()\n",
    "else:\n",
    "    speak(\"Sorry I can only predict heart disease on heart related sypmtoms\")\n",
    "    speak(\"thank you have a nice day\")"
   ]
  }
 ],
 "metadata": {
  "kernelspec": {
   "display_name": "Python 3",
   "language": "python",
   "name": "python3"
  },
  "language_info": {
   "codemirror_mode": {
    "name": "ipython",
    "version": 3
   },
   "file_extension": ".py",
   "mimetype": "text/x-python",
   "name": "python",
   "nbconvert_exporter": "python",
   "pygments_lexer": "ipython3",
   "version": "3.7.3"
  }
 },
 "nbformat": 4,
 "nbformat_minor": 2
}
